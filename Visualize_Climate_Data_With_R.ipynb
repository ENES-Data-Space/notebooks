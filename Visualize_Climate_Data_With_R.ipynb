{
 "cells": [
  {
   "cell_type": "markdown",
   "id": "d806481e-33b5-4822-9d03-8240fdb5282d",
   "metadata": {},
   "source": [
    "# Visualize Climate Data with R"
   ]
  },
  {
   "cell_type": "markdown",
   "id": "0816412a-9de3-4c52-a7b6-50fd60c79b90",
   "metadata": {},
   "source": [
    "In this notebook, we will learn how to read the metadata from a NetCDF file and visualize data on a map.\n",
    "\n",
    "Specifically, we will be using `raster`, an R package for spatial data analysis."
   ]
  },
  {
   "cell_type": "code",
   "execution_count": null,
   "id": "e5b9bcc5-0623-4129-ba4c-f624871160d2",
   "metadata": {},
   "outputs": [],
   "source": [
    "library(raster)\n",
    "library(fs)\n",
    "Sys.setenv(PROJ_LIB = \"/opt/conda/envs/r-kernel/share/proj\")\n",
    "home = path_expand(\"~\")"
   ]
  },
  {
   "cell_type": "markdown",
   "id": "e275444d-90ec-4a64-a307-6f63cec8c35f",
   "metadata": {},
   "source": [
    "As an example, we use one of the NetCDF file stored in the ENES Data Space archive. The file refers to the **tasmax** variable, the *Daily-Maximum Near-Surface Air Temperature*."
   ]
  },
  {
   "cell_type": "code",
   "execution_count": null,
   "id": "6e87a450-eed8-4279-b443-06acfdf64473",
   "metadata": {},
   "outputs": [],
   "source": [
    "tasmax_file_path = home+'/data/CMIP6/ScenarioMIP/CMCC/CMCC-ESM2/ssp585/r1i1p1f1/Amon/tasmax/gn/v20210126/tasmax_Amon_CMCC-ESM2_ssp585_r1i1p1f1_gn_201501-210012.nc'"
   ]
  },
  {
   "cell_type": "markdown",
   "id": "11d7a88f-9b7d-4d39-831a-3f6290961187",
   "metadata": {},
   "source": [
    "We use the `raster` function to create a RasterLayer from the NetCDF file. In this case, the following additional arguments may be provided:\n",
    "\n",
    "- `varname`: The variable name, such as 'tasmax' or 'pr'. If not supplied and the file include multiple variables, a guess will be made (and reported)\n",
    "\n",
    "- `lvar`: default=3. To select the 'level variable' (3rd dimension variable) to use, if the file has 4 dimensions (e.g. depth instead of time)\n",
    "\n",
    "- `level`: default=1. To select the 'level' (4th dimension variable) to use, if the file has 4 dimensions, e.g. to create a RasterBrick of weather over time at a certain height."
   ]
  },
  {
   "cell_type": "code",
   "execution_count": null,
   "id": "ff55cd88-a8ac-482e-902a-0963148b4e5a",
   "metadata": {},
   "outputs": [],
   "source": [
    "dset <- raster(tasmax_file_path) # We get only the first timestep (band)\n",
    "dset"
   ]
  },
  {
   "cell_type": "markdown",
   "id": "1879e702-312c-4117-84f7-9913660b32aa",
   "metadata": {},
   "source": [
    "From the output above, we can see that our `dset` object is a RasterLayer and we get additional metadata information about it:\n",
    "\n",
    "    name of the variable\n",
    "    dimensions\n",
    "    resolution\n",
    "    coordinate reference system\n",
    "\n",
    "When printed, we get all the metadata associated with our NetCDF data file."
   ]
  },
  {
   "cell_type": "code",
   "execution_count": null,
   "id": "97855261-068a-406a-a170-78940e3c45be",
   "metadata": {},
   "outputs": [],
   "source": [
    "print(dset)"
   ]
  },
  {
   "cell_type": "markdown",
   "id": "43824a59-5479-4037-becf-15bb4717ba18",
   "metadata": {},
   "source": [
    "## Quick visualization"
   ]
  },
  {
   "cell_type": "markdown",
   "id": "2046e700-2949-436b-a2d4-2a72e3d83c1e",
   "metadata": {},
   "source": [
    "A quick visualization can be obtained by using the `plot` function."
   ]
  },
  {
   "cell_type": "code",
   "execution_count": null,
   "id": "a6b32228-af6e-4d35-bf1f-2fadeb121754",
   "metadata": {},
   "outputs": [],
   "source": [
    "plot(dset)"
   ]
  },
  {
   "cell_type": "markdown",
   "id": "0a0818a8-5e31-4684-b030-f5d3f44cdb9f",
   "metadata": {},
   "source": [
    "To shift longitudes to `[-180; 180]` instead of `[0; 360]`, we can use the `rotate` function. This function rotates a `Raster*` object that has x coordinates (longitude) from 0 to 360, to standard coordinates between -180 and 180 degrees. Longitude between 0 and 360 is frequently used in data from global climate models."
   ]
  },
  {
   "cell_type": "code",
   "execution_count": null,
   "id": "0d80c89d-d293-4522-95fd-5266cf90315f",
   "metadata": {},
   "outputs": [],
   "source": [
    "dset_r <- rotate(dset)\n",
    "dset_r"
   ]
  },
  {
   "cell_type": "code",
   "execution_count": null,
   "id": "9b4ed04c-3bc3-4197-9365-2b0eee29f96b",
   "metadata": {},
   "outputs": [],
   "source": [
    "plot(dset_r)"
   ]
  },
  {
   "cell_type": "markdown",
   "id": "4b04e078-672a-4415-b441-b54ef587f62e",
   "metadata": {},
   "source": [
    "## Plotting with ggplot2"
   ]
  },
  {
   "cell_type": "markdown",
   "id": "483bc009-2c70-4a58-8b70-9ed7af019af4",
   "metadata": {},
   "source": [
    "`ggplot2` is a plotting package that makes it simple to create complex plots from data in a data frame. It provides a more programmatic interface for specifying what variables to plot, how they are to be displayed, and to define general visual properties. This helps in creating publication quality plots with minimal amounts of adjustments and tweaking."
   ]
  },
  {
   "cell_type": "code",
   "execution_count": null,
   "id": "c1632202-f8c0-4d1a-b2f9-825c67518fb6",
   "metadata": {},
   "outputs": [],
   "source": [
    "library(ggplot2)"
   ]
  },
  {
   "cell_type": "markdown",
   "id": "abf97352-d2b7-483f-aebf-8f061460ea02",
   "metadata": {},
   "source": [
    "ggplot graphics are built step by step by adding new elements. Adding layers in this fashion allows for extensive flexibility and customization of plots. To build a ggplot, we will follow the following basic template that can be used for different types of plots:\n",
    "\n",
    "    ggplot(data = <DATA>, mapping = aes(<MAPPINGS>)) +  <GEOM_FUNCTION>()"
   ]
  },
  {
   "cell_type": "markdown",
   "id": "039fa9eb-2b9f-4607-8375-376d4dee46b3",
   "metadata": {},
   "source": [
    "To visualise our data (`dset_r`) in R using `ggplot2`, we need to convert it to a dataframe. The raster package has an built-in function for conversion to a plotable dataframe:"
   ]
  },
  {
   "cell_type": "code",
   "execution_count": null,
   "id": "b0d5c76e-278c-4db4-8005-e3dd6953da0a",
   "metadata": {},
   "outputs": [],
   "source": [
    "df <- as.data.frame(dset_r, xy = TRUE) "
   ]
  },
  {
   "cell_type": "markdown",
   "id": "8719f3be-3916-4d77-b309-9baf4dc4a5af",
   "metadata": {},
   "source": [
    "Inspecting the structure of our data, we can see a standard dataframe format"
   ]
  },
  {
   "cell_type": "code",
   "execution_count": null,
   "id": "96297758-9178-4a84-9c3d-a7b6c9080cf3",
   "metadata": {},
   "outputs": [],
   "source": [
    "str(df)"
   ]
  },
  {
   "cell_type": "markdown",
   "id": "26adae06-b663-4254-b0a3-dad3cd6325cb",
   "metadata": {},
   "source": [
    "Once converted to a dataframe, we can plot it. We will also use the `coord_quickmap()` function to use an approximate Mercator projection for our plot."
   ]
  },
  {
   "cell_type": "code",
   "execution_count": null,
   "id": "137cbd0c-312f-4704-81ea-2d72e108ec7e",
   "metadata": {},
   "outputs": [],
   "source": [
    "ggplot() +\n",
    "  geom_raster(data = df , aes(x = x, y = y, fill = Daily.Maximum.Near.Surface.Air.Temperature)) + \n",
    "  coord_quickmap()"
   ]
  },
  {
   "cell_type": "markdown",
   "id": "e336cce6-c262-450e-a41e-f3c3d19f6ef4",
   "metadata": {},
   "source": [
    "We can then set the color scale to `scale_fill_viridis_c` which is a color-blindness friendly color scale."
   ]
  },
  {
   "cell_type": "code",
   "execution_count": null,
   "id": "ef3760b0-697e-455d-9ea7-c924e679e85e",
   "metadata": {},
   "outputs": [],
   "source": [
    "ggplot() +\n",
    "  geom_raster(data = df , aes(x = x, y = y, fill = Daily.Maximum.Near.Surface.Air.Temperature)) +\n",
    "  scale_fill_viridis_c() +\n",
    "  coord_quickmap()"
   ]
  },
  {
   "cell_type": "markdown",
   "id": "cfdcac2a-60dc-4e36-a9eb-8c50947a1362",
   "metadata": {},
   "source": [
    "We can also create our own colormap using `colorRampPalette`"
   ]
  },
  {
   "cell_type": "code",
   "execution_count": null,
   "id": "e5fd0c4d-eeb7-48ae-9c70-01ea596c22dd",
   "metadata": {},
   "outputs": [],
   "source": [
    "jet.colors <- colorRampPalette(c(\"#00007F\", \"blue\", \"#007FFF\", \"cyan\", \"#7FFF7F\", \"yellow\", \"#FF7F00\", \"red\", \"#7F0000\"))"
   ]
  },
  {
   "cell_type": "markdown",
   "id": "b46a2046-a550-4b41-8b6a-ef44abd8931c",
   "metadata": {},
   "source": [
    "Then, we can use this new colormap with `scale_fill_gradientn`"
   ]
  },
  {
   "cell_type": "code",
   "execution_count": null,
   "id": "18940d7d-c76c-4618-a944-cc89ceed4d97",
   "metadata": {},
   "outputs": [],
   "source": [
    "ggplot() +\n",
    "  geom_raster(data = df, aes(x=x, y=y, fill=Daily.Maximum.Near.Surface.Air.Temperature)) + \n",
    "  scale_fill_gradientn(colors = jet.colors(7)) + \n",
    "  coord_quickmap()"
   ]
  },
  {
   "cell_type": "markdown",
   "id": "168af000-973b-419f-a526-31aea615377f",
   "metadata": {},
   "source": [
    "Let’s add continents and a projection using `borders`"
   ]
  },
  {
   "cell_type": "code",
   "execution_count": null,
   "id": "c240b17e-1a89-49b8-99c5-01c028347646",
   "metadata": {},
   "outputs": [],
   "source": [
    "ggplot() +\n",
    "  geom_raster(data = df, aes(x=x, y=y, fill=Daily.Maximum.Near.Surface.Air.Temperature)) + \n",
    "  scale_fill_gradientn(colors = jet.colors(7)) + \n",
    "  borders() + \n",
    "  coord_quickmap()"
   ]
  },
  {
   "cell_type": "markdown",
   "id": "63e91d13-278f-47c0-a23c-49fac7386756",
   "metadata": {},
   "source": [
    "We can then improve our map by using other functions, such as:\n",
    "- `options`: it allows the user to set and examine a variety of global options which affect the way in which R computes and displays its results. In this case, we'll set the `repr.plot.*` option to overwrite the default values (7 inches) for both plotting area `width` and `height`. \n",
    "- `coord_sf`: it ensures that all layers use a common CRS.\n",
    "- `annotate`: this is useful for adding small annotations (such as text labels)"
   ]
  },
  {
   "cell_type": "code",
   "execution_count": null,
   "id": "20e87af4-65bc-4e64-9a40-4eb59e8d9cd6",
   "metadata": {},
   "outputs": [],
   "source": [
    "options(repr.plot.width=15, repr.plot.height=8)\n",
    "ggplot() +\n",
    "  geom_raster(data = df, aes(x=x, y=y, fill=Daily.Maximum.Near.Surface.Air.Temperature)) + \n",
    "  scale_fill_gradientn(colors = jet.colors(7)) + \n",
    "  borders()+\n",
    "  coord_sf(xlim = c(-180, 180), ylim = c(-90, 90), expand = FALSE) +\n",
    "  annotate(geom = \"text\", x = -100, y = 40, label = \"USA\", \n",
    "    fontface = \"italic\", color = \"black\", size = 5) +\n",
    "  annotate(geom = \"text\", x = 12, y = 40, label = \"Italy\", \n",
    "    fontface = \"italic\", color = \"black\", size = 5) + \n",
    "  annotate(geom = \"text\", x = 80, y = -10, label = \"Indian Ocean\", \n",
    "    fontface = \"italic\", color = \"black\", size = 5)"
   ]
  },
  {
   "cell_type": "markdown",
   "id": "f12a69d9-9a99-4cb4-ab1b-fe12e6529def",
   "metadata": {},
   "source": [
    "The `coord_sf` is also useful if we want tha map to be zoomed to show a specific area."
   ]
  },
  {
   "cell_type": "markdown",
   "id": "1346fc9d-5ab4-451a-a818-20efa0460cfc",
   "metadata": {},
   "source": [
    "#### Zoom on EUROPE"
   ]
  },
  {
   "cell_type": "code",
   "execution_count": null,
   "id": "ec64d5a0-a084-4858-a3e3-728c3bb1955c",
   "metadata": {},
   "outputs": [],
   "source": [
    "# EUROPE\n",
    "north=75\n",
    "south=35\n",
    "east=40\n",
    "west=-25\n",
    "\n",
    "options(repr.plot.width=15, repr.plot.height=8)\n",
    "ggplot() +\n",
    "  geom_raster(data = df, aes(x=x, y=y, fill=Daily.Maximum.Near.Surface.Air.Temperature)) + \n",
    "  scale_fill_gradientn(colors = jet.colors(7)) + \n",
    "  borders()+\n",
    "  coord_sf(xlim = c(west, east), ylim = c(south, north), expand = FALSE)"
   ]
  },
  {
   "cell_type": "markdown",
   "id": "4812e0c3-7b9c-46fa-a609-2910e4eed772",
   "metadata": {},
   "source": [
    "#### Zoom on AFRICA"
   ]
  },
  {
   "cell_type": "code",
   "execution_count": null,
   "id": "858bd6ca-d463-49c4-9be4-86d2987f2362",
   "metadata": {},
   "outputs": [],
   "source": [
    "# AFRICA\n",
    "north=40\n",
    "south=-35\n",
    "east=60\n",
    "west=-25\n",
    "\n",
    "options(repr.plot.width=15, repr.plot.height=8)\n",
    "ggplot() +\n",
    "  geom_raster(data = df, aes(x=x, y=y, fill=Daily.Maximum.Near.Surface.Air.Temperature)) + \n",
    "  scale_fill_gradientn(colors = jet.colors(7)) + \n",
    "  borders()+\n",
    "  coord_sf(xlim = c(west, east), ylim = c(south, north), expand = FALSE)"
   ]
  },
  {
   "cell_type": "markdown",
   "id": "568bf7a9-823f-4ef6-905c-8622b3da0b75",
   "metadata": {},
   "source": [
    "#### Zoom on AMERICA"
   ]
  },
  {
   "cell_type": "code",
   "execution_count": null,
   "id": "d987edb2-a232-4737-88cd-ea21b69c873f",
   "metadata": {},
   "outputs": [],
   "source": [
    "# AMERICA\n",
    "north=90\n",
    "south=-60\n",
    "east=-10\n",
    "west=-180\n",
    "\n",
    "options(repr.plot.width=15, repr.plot.height=8)\n",
    "ggplot() +\n",
    "  geom_raster(data = df, aes(x=x, y=y, fill=Daily.Maximum.Near.Surface.Air.Temperature)) + \n",
    "  scale_fill_gradientn(colors = jet.colors(7)) + \n",
    "  borders()+\n",
    "  coord_sf(xlim = c(west, east), ylim = c(south, north), expand = FALSE)"
   ]
  },
  {
   "cell_type": "markdown",
   "id": "bfc977a5-c655-4518-8c8e-a28e5b7925d5",
   "metadata": {},
   "source": [
    "We can then save the plot using the [ggsave](https://ggplot2.tidyverse.org/reference/ggsave.html) function, which saves by default the last plot that you displayed."
   ]
  },
  {
   "cell_type": "code",
   "execution_count": null,
   "id": "19afa5c0-3d5f-4a04-9b9b-265d0810a9d1",
   "metadata": {},
   "outputs": [],
   "source": [
    "ggsave(home+\"/work/tasmax_america_201501.png\", width = 15, height = 8)"
   ]
  },
  {
   "cell_type": "markdown",
   "id": "3984b391-af3c-41ab-9949-0ed7136deef7",
   "metadata": {},
   "source": [
    "Check and display the exported PNG."
   ]
  },
  {
   "cell_type": "code",
   "execution_count": null,
   "id": "3d9446a0-2714-4f7b-ba8c-a4cf10da0ea7",
   "metadata": {},
   "outputs": [],
   "source": [
    "library(\"IRdisplay\")\n",
    "display_png(file=home+\"/work/tasmax_america_201501.png\")"
   ]
  },
  {
   "cell_type": "markdown",
   "id": "b604891f-edf9-419a-97d9-afe5f085d0ba",
   "metadata": {},
   "source": [
    "### Change projection\n",
    "\n",
    "It is often convenient to visualize data using a different projection than the original data. \n",
    "\n",
    "The projection is specified with `coord_map`. *Orientation* takes 3 parameters: latitude,longitude,rotation.\n",
    "\n",
    "We also used `scale_color_distiller` to change the palette."
   ]
  },
  {
   "cell_type": "code",
   "execution_count": null,
   "id": "e16b80b0-e541-45cd-a3fc-da63e5ad2d1a",
   "metadata": {},
   "outputs": [],
   "source": [
    "ggplot(df, aes(y=y, x=x, color=Daily.Maximum.Near.Surface.Air.Temperature)) +\n",
    "  geom_point(size=2, shape=15) +\n",
    "  borders('world', xlim=range(df$x), ylim=range(df$y), colour='black') +  \n",
    "  scale_color_distiller(palette='Spectral') +\n",
    "  coord_map('ortho', orientation = c(40, 20, 0))"
   ]
  },
  {
   "cell_type": "markdown",
   "id": "c70d50d4-3577-4161-89db-4f6242e63ac5",
   "metadata": {},
   "source": [
    "## A second example\n",
    "\n",
    "As another example, let'use a NetCDF file related to the **pr** variable (Precipitation)."
   ]
  },
  {
   "cell_type": "code",
   "execution_count": null,
   "id": "30ef0830-c523-4b3e-997d-85a02c7dc1d5",
   "metadata": {},
   "outputs": [],
   "source": [
    "pr_file_path = home+'/data/CMIP6/ScenarioMIP/CMCC/CMCC-ESM2/ssp585/r1i1p1f1/Amon/pr/gn/v20210126/pr_Amon_CMCC-ESM2_ssp585_r1i1p1f1_gn_201501-210012.nc'"
   ]
  },
  {
   "cell_type": "markdown",
   "id": "4af522a1-aadd-4b66-8494-fc74c0d2cfab",
   "metadata": {},
   "source": [
    "In this case, we are going to use the `stack` function from the `raster` package. The `stack` function is used to create a `RasterStack` object, which is a collection of `RasterLayer` objects with the same spatial extent and resolution. In this case, we want to bring in all bands of a multi-band raster (here all times)."
   ]
  },
  {
   "cell_type": "code",
   "execution_count": null,
   "id": "23623c47-002c-4b1e-ab95-d266996b438e",
   "metadata": {},
   "outputs": [],
   "source": [
    "dset_pr <- stack(pr_file_path)\n",
    "dset_pr"
   ]
  },
  {
   "cell_type": "markdown",
   "id": "2b80e770-cb2e-4bf5-824e-57248b7c88aa",
   "metadata": {},
   "source": [
    "We can look at the bands (times):"
   ]
  },
  {
   "cell_type": "code",
   "execution_count": null,
   "id": "2046e344-8af7-4cfb-8d7f-a2a3aa2f8a41",
   "metadata": {},
   "outputs": [],
   "source": [
    "options(max.print=3)\n",
    "dset_pr@layers"
   ]
  },
  {
   "cell_type": "markdown",
   "id": "197cbed8-1f55-4b85-89db-aa1f45d28cab",
   "metadata": {},
   "source": [
    "Let’s now select one layer (time), for example \"June 2050\".\n",
    "\n",
    "To ease our search we grep for \"2050.06\" in the names of the layers. The variable for precipitation is name **pr** (there is only one variable), so let’s look at its metadata."
   ]
  },
  {
   "cell_type": "code",
   "execution_count": null,
   "id": "2a030b26-268d-454b-87a3-80c6d8f0dfca",
   "metadata": {},
   "outputs": [],
   "source": [
    "dset_205006 <- raster::subset(dset_pr, grep('2050.06.', names(dset_pr), value = T))"
   ]
  },
  {
   "cell_type": "code",
   "execution_count": null,
   "id": "ef867372-d489-40d0-a240-3db1bf785106",
   "metadata": {},
   "outputs": [],
   "source": [
    "print(dset_205006)"
   ]
  },
  {
   "cell_type": "markdown",
   "id": "d884b998-a04e-4778-8ab3-593fb280fb9e",
   "metadata": {},
   "source": [
    "As before, we shift the longitudes from 0 and 360 to -180 and 180 with `rotate`"
   ]
  },
  {
   "cell_type": "code",
   "execution_count": null,
   "id": "defd03cb-f4f9-42d1-b71e-f681b36e5924",
   "metadata": {},
   "outputs": [],
   "source": [
    "dset_205006_r <- rotate(dset_205006)"
   ]
  },
  {
   "cell_type": "markdown",
   "id": "23c2335f-cfe9-46db-8d14-3249ca4dc07f",
   "metadata": {},
   "source": [
    "And then convert to a dataframe for plotting"
   ]
  },
  {
   "cell_type": "code",
   "execution_count": null,
   "id": "8e3c53cf-0dbe-4de9-9bac-c5f4111e879d",
   "metadata": {},
   "outputs": [],
   "source": [
    "df <- as.data.frame(dset_205006_r, xy = TRUE)\n",
    "df"
   ]
  },
  {
   "cell_type": "markdown",
   "id": "a2b49ea8-495e-47f5-a3f1-48cefe69050c",
   "metadata": {},
   "source": [
    "The column names are not very meaningful, so let’s rename them using the `dplyr` R package. (Please ignore the warnings, if any)"
   ]
  },
  {
   "cell_type": "code",
   "execution_count": null,
   "id": "40992045-c90a-49ae-a4b6-49a3ec7ba776",
   "metadata": {},
   "outputs": [],
   "source": [
    "library(dplyr)\n",
    "df <- df %>% \n",
    "  rename(\n",
    "    precipitation = X2050.06.16,\n",
    "    longitude = x,\n",
    "    latitude = y\n",
    "  )\n",
    "df"
   ]
  },
  {
   "cell_type": "markdown",
   "id": "5a0a992d-c7c7-4ba9-b3b6-f438db38d665",
   "metadata": {},
   "source": [
    "The unit is **kg m-2 s-1**. We want to convert it to something that we are a little more familiar with, like **mm day-1** or **m day-1** (metre per day).\n",
    "\n",
    "To do so, consider that 1 kg of rain water spread over 1 m2 of surface is 1 mm in thickness and that there are 86400 seconds in one day. Therefore\n",
    "\n",
    "    1 kg m-2 s-1 = 86400 mm day-1 = 86.40 m day-1\n",
    "\n",
    "So we can multiply that array by 86.40."
   ]
  },
  {
   "cell_type": "code",
   "execution_count": null,
   "id": "21e995f3-8b4d-405c-b272-8b58ed7c2943",
   "metadata": {},
   "outputs": [],
   "source": [
    "df$precipitation <- df$precipitation * 86.4"
   ]
  },
  {
   "cell_type": "markdown",
   "id": "c190b14d-b139-4b80-a367-a822643a3a13",
   "metadata": {},
   "source": [
    "Then we can plot the precipitation field"
   ]
  },
  {
   "cell_type": "code",
   "execution_count": null,
   "id": "3df077d9-a098-47a9-bc41-f677e52dbaac",
   "metadata": {},
   "outputs": [],
   "source": [
    "ggplot() +\n",
    "  geom_raster(data = df , aes(x = longitude, y = latitude, fill = precipitation)) +\n",
    "  scale_fill_viridis_c(limits = c(0.0, 0.02)) + \n",
    "  borders() + \n",
    "  coord_quickmap()"
   ]
  },
  {
   "cell_type": "markdown",
   "id": "c1ee3bee-6ae0-4be6-acb1-92d8827c353b",
   "metadata": {},
   "source": [
    "Or using the custom jet colormap"
   ]
  },
  {
   "cell_type": "code",
   "execution_count": null,
   "id": "74aa5d43-61cd-4aeb-af7f-1f89e803757b",
   "metadata": {},
   "outputs": [],
   "source": [
    "options(repr.plot.width=15, repr.plot.height=8)\n",
    "jet.colors <- colorRampPalette(c(\"#00007F\", \"blue\", \"#007FFF\", \"cyan\", \"#7FFF7F\", \"yellow\", \"#FF7F00\", \"red\", \"#7F0000\"))\n",
    "\n",
    "ggplot() +\n",
    "  geom_raster(data = df, aes(x=longitude, y=latitude, fill=precipitation)) + \n",
    "  scale_fill_gradientn(colors = jet.colors(7),limits = c(0.0, 0.02)) +  \n",
    "  borders()+\n",
    "  coord_sf(xlim = c(-180, 180), ylim = c(-90, 90), expand = FALSE)"
   ]
  }
 ],
 "metadata": {
  "kernelspec": {
   "display_name": "R",
   "language": "R",
   "name": "ir"
  },
  "language_info": {
   "codemirror_mode": "r",
   "file_extension": ".r",
   "mimetype": "text/x-r-source",
   "name": "R",
   "pygments_lexer": "r",
   "version": "4.2.3"
  }
 },
 "nbformat": 4,
 "nbformat_minor": 5
}
