{
 "cells": [
  {
   "cell_type": "markdown",
   "id": "eb168cb6",
   "metadata": {},
   "source": [
    "# Getting started with xarray and Matplotlib\n",
    "\n",
    "This notebook will show how to use xarray’s convenient matplotlib-backed plotting interface to visualize your datasets.\n",
    "\n",
    "[**xarray**](http://xarray.pydata.org/en/stable/) introduces labels in the form of dimensions, coordinates and attributes on top of raw NumPy-like multidimensional arrays, which allows for a more intuitive, more concise, and less error-prone developer experience. *Xarray* plotting functionality is a thin wrapper around [**matplotlib**](https://matplotlib.org/), a comprehensive library for creating static, animated, and interactive visualizations in Python."
   ]
  },
  {
   "cell_type": "markdown",
   "id": "140056d5",
   "metadata": {},
   "source": [
    "Let's start by importing the main Python modules we'll use in this notebook"
   ]
  },
  {
   "cell_type": "code",
   "execution_count": null,
   "id": "a4e47cd9",
   "metadata": {},
   "outputs": [],
   "source": [
    "%matplotlib inline\n",
    "import numpy as np\n",
    "import pandas as pd\n",
    "import xarray as xr\n",
    "import matplotlib.pyplot as plt\n",
    "import matplotlib as mpl\n",
    "import glob\n",
    "from os.path import expanduser\n",
    "home = expanduser(\"~\")"
   ]
  },
  {
   "cell_type": "markdown",
   "id": "9ad441d3",
   "metadata": {},
   "source": [
    "### Load data\n",
    "\n",
    "All the input datasets are located under the ```data``` folder and organized according to the directory structure defined in the [**CMIP6 Data Reference Syntax**](https://pcmdi.llnl.gov/CMIP6/Guide/dataUsers.html). \n",
    "\n",
    "In these examples we’ll use a ```tas```(near-surface air temperature) file which is part of the ```CMIP6``` dataset produced by ```CMCC``` from the ```CMCC-CM2-SR5``` global coupled general circulation model and related to the ```ssp585``` experiment (update of emission-driven RCP8.5 based on SSP5). \n",
    "\n",
    "As shown in [**this**](Quick_Start_intake-esm.ipynb) notebook, you can exploit the ```intake-esm``` features to search&discover data and load the desired data assets (NetCDF files) into xarray datasets. "
   ]
  },
  {
   "cell_type": "markdown",
   "id": "a2e9d86e",
   "metadata": {},
   "source": [
    "First let's load up a dataset to visualize."
   ]
  },
  {
   "cell_type": "code",
   "execution_count": null,
   "id": "a659b5dd",
   "metadata": {},
   "outputs": [],
   "source": [
    "input_file = home+\"/data/CMIP6/ScenarioMIP/CMCC/CMCC-CM2-SR5/ssp585/r1i1p1f1/Amon/tas/gn/v20200622/tas_Amon_CMCC-CM2-SR5_ssp585_r1i1p1f1_gn_201501-210012.nc\"\n",
    "ds = xr.open_dataset(input_file).load()\n",
    "ds"
   ]
  },
  {
   "cell_type": "markdown",
   "id": "c3474cf2",
   "metadata": {},
   "source": [
    "This dataset contains a three-dimensional variable, called ```tas```, with dimensions ```(time, lat, lon)```.\n",
    "\n",
    "### Basic plotting: .plot()\n",
    "DataArray objects have a ```plot``` method, which creates plots using matplotlib. By default ```.plot()``` makes\n",
    "- a line plot for 1-D arrays using ```plt.plot()```\n",
    "\n",
    "- a pcolormesh plot for 2-D arrays using ```plt.pcolormesh()```\n",
    "\n",
    "- a histogram for everything else using ```plt.hist()```"
   ]
  },
  {
   "cell_type": "markdown",
   "id": "6b038b4b",
   "metadata": {},
   "source": [
    "##### Histograms\n",
    "```tas``` is three-dimensional, so we got a histogram of temperature values. Notice the label on the x-axis. One of xarray’s convenient plotting features is that it uses the ```attrs``` of ```tas``` to nicely label axes and colorbars."
   ]
  },
  {
   "cell_type": "code",
   "execution_count": null,
   "id": "04f9d442",
   "metadata": {},
   "outputs": [],
   "source": [
    "ds.tas.plot()"
   ]
  },
  {
   "cell_type": "markdown",
   "id": "2778a451",
   "metadata": {},
   "source": [
    "You can pass extra arguments to the underlying ```hist()``` call. For example, we can change the type of histogram to draw:\n",
    "- ```bar``` (default) is a traditional bar-type histogram;\n",
    "- ```barstacked``` is a bar-type histogram where multiple data are stacked on top of each other;\n",
    "- ```step``` generates a lineplot that is by default unfilled;\n",
    "- ```stepfilled``` generates a lineplot that is by default filled.\n",
    "\n",
    "We can define the orientation: ```vertical``` (default) or ```horizontal```.\n",
    "\n",
    "We can change the ```color```: a color or a sequence of colors, one per dataset."
   ]
  },
  {
   "cell_type": "code",
   "execution_count": null,
   "id": "3d58732b",
   "metadata": {},
   "outputs": [],
   "source": [
    "ds.tas.plot(histtype='step', orientation='horizontal', color='red')"
   ]
  },
  {
   "cell_type": "markdown",
   "id": "91db4fb7",
   "metadata": {},
   "source": [
    "#### 2D plots\n",
    "\n",
    "Now we will explore 2D plots. Let’s select a single timestep of ```tas``` to visualize. The dataset covers a time period from January 2015 to December 2100 and has a monthly time frequency: so, for example, we can use an index equal to 2 to select the third time point, that is March 2015.  "
   ]
  },
  {
   "cell_type": "code",
   "execution_count": null,
   "id": "acef4258",
   "metadata": {},
   "outputs": [],
   "source": [
    "ds.tas.isel(time=2).plot()"
   ]
  },
  {
   "cell_type": "markdown",
   "id": "8b76a1f7",
   "metadata": {},
   "source": [
    "The x- and y-axes are labeled with full names — ```Latitude```, ```Longitude``` — along with units. The colorbar has a nice label, again with units. And the title indicates the timestamp of the data presented."
   ]
  },
  {
   "cell_type": "markdown",
   "id": "1b8619e8",
   "metadata": {},
   "source": [
    "Here is a more complicated figure that explicitly select the second ```longitude``` value, sets ```time``` as the x-axis, customizes the colorbar, and overlays two contours at specific levels."
   ]
  },
  {
   "cell_type": "code",
   "execution_count": null,
   "id": "f04ee632",
   "metadata": {},
   "outputs": [],
   "source": [
    "ds.tas.isel(lon=1).plot(\n",
    "    x=\"time\",  # Coordinate for x axis\n",
    "    robust=True,  # Set colormap range to 2nd and 98th percentile of data instead of the extreme values\n",
    "    cbar_kwargs={\n",
    "        \"orientation\": \"horizontal\",\n",
    "        \"label\": \"custom label\",\n",
    "        \"pad\": 0.2,\n",
    "    },  # passed to plt.colorbar\n",
    ")"
   ]
  },
  {
   "cell_type": "markdown",
   "id": "9a68f7e5",
   "metadata": {},
   "source": [
    "#### 1D line plots\n",
    "```xarray``` is also able to plot lines by wrapping ```plt.plot()```. As in the earlier examples, the axes are labelled and keyword arguments can be passed to the underlying ```matplotlib``` call.\n",
    "\n",
    "In the example belowe, we select a single spatial point, identified by its index (```lat```,```lon```), and we slice the time sequence to get every nth timestep (e.g. 12, to get every Junuary for each year from 2015 to 2100)."
   ]
  },
  {
   "cell_type": "code",
   "execution_count": null,
   "id": "312c539c",
   "metadata": {},
   "outputs": [],
   "source": [
    "tas1d = ds.tas.isel(lat=10, lon=10).isel(time=slice(None,None,12))\n",
    "print(tas1d.time.dt.strftime(\"%Y%m%d %H%M%S\").values)\n",
    "tas1d.plot()"
   ]
  },
  {
   "cell_type": "markdown",
   "id": "0924ab30",
   "metadata": {},
   "source": [
    "Additional arguments can be directly passed to the matplotlib function. For example, ```xarray.plot()``` calls ```matplotlib.pyplot.plot``` passing in the array values as x and y, respectively. So to make a thin-line plot with purple triangles a matplotlib format string can be used:"
   ]
  },
  {
   "cell_type": "code",
   "execution_count": null,
   "id": "cb897676",
   "metadata": {},
   "outputs": [],
   "source": [
    "tas1d.plot( \n",
    "    color=\"purple\", \n",
    "    marker=\"^\",\n",
    "    linewidth=\"0.2\"\n",
    ")"
   ]
  },
  {
   "cell_type": "markdown",
   "id": "e437e763",
   "metadata": {},
   "source": [
    "#### Multiple lines from a 2d DataArray"
   ]
  },
  {
   "cell_type": "markdown",
   "id": "fbb3dcf3",
   "metadata": {},
   "source": [
    "Now we want to compare line plots of temperature at three different latitudes. We can use the ```hue``` kwarg to do this."
   ]
  },
  {
   "cell_type": "code",
   "execution_count": null,
   "id": "77831e78",
   "metadata": {},
   "outputs": [],
   "source": [
    "ds.tas.isel(time=1).sel(lat=[40, 50, 60], method=\"nearest\").plot(\n",
    "    x=\"lon\", hue=\"lat\"\n",
    ")"
   ]
  },
  {
   "cell_type": "markdown",
   "id": "2892d255",
   "metadata": {},
   "source": [
    "Similarly, we can use line plots to check the variation of air temperature (every year ---> ```time=slice(None,None,12)```), at three different latitudes (```lat=[19, 21, 22]```) along a longitude line (```lon=10```).\n",
    "\n",
    "\n",
    "It is required to explicitly specify either\n",
    "\n",
    "    x: the dimension to be used for the x-axis, or\n",
    "    hue: the dimension you want to represent by multiple lines.\n",
    "\n",
    "Thus, we can make the plot by specifying either ```hue='lat'``` or ```x='time'```. \n",
    "\n",
    "If required, the automatic legend can be turned off using ```add_legend=False```."
   ]
  },
  {
   "cell_type": "code",
   "execution_count": null,
   "id": "40841e42",
   "metadata": {},
   "outputs": [],
   "source": [
    "ds.tas.isel(lon=50, lat=[19, 20, 21],time=slice(None,None,12)).plot.line(x=\"time\")"
   ]
  },
  {
   "cell_type": "markdown",
   "id": "485c44d6",
   "metadata": {},
   "source": [
    "We can now combine the two plots into a single figure"
   ]
  },
  {
   "cell_type": "code",
   "execution_count": null,
   "id": "4febce79",
   "metadata": {},
   "outputs": [],
   "source": [
    "tas = ds.tas - 273.15  # to celsius\n",
    "\n",
    "# Prepare the figure\n",
    "f, (ax1, ax2) = plt.subplots(1, 2, figsize=(8, 4), sharey=True)\n",
    "\n",
    "# Selected latitude values\n",
    "isel_lats = [40, 50, 60]\n",
    "\n",
    "# Temperature vs longitude plot\n",
    "tas.sel(lat=isel_lats, method=\"nearest\").isel(time=1).plot.line(ax=ax1, hue='lat')\n",
    "ax1.set_ylabel('°C')\n",
    "\n",
    "# Temperature vs time plot\n",
    "tas.sel(lon=50, lat=isel_lats,method=\"nearest\").isel(time=slice(None,None,12)).plot.line(ax=ax2, x='time', add_legend=False)\n",
    "ax2.set_ylabel('')\n",
    "\n",
    "# Show\n",
    "plt.tight_layout()"
   ]
  },
  {
   "cell_type": "markdown",
   "id": "244ce159",
   "metadata": {},
   "source": [
    "#### Dimension along y-axis\n",
    "\n",
    "It is also possible to make line plots such that the data are on the x-axis and a dimension is on the y-axis. This can be done by specifying the appropriate ```y``` keyword argument."
   ]
  },
  {
   "cell_type": "code",
   "execution_count": null,
   "id": "bdbdad28",
   "metadata": {},
   "outputs": [],
   "source": [
    "ds.tas.isel(time=11, lon=[10, 30]).plot(y=\"lat\", hue=\"lon\")"
   ]
  },
  {
   "cell_type": "markdown",
   "id": "faf79492",
   "metadata": {},
   "source": [
    "#### Step plots\n",
    "\n",
    "As an alternative, also a step plot can be made using 1D data.\n",
    "\n",
    "The argument ```where``` defines where the steps should be placed. Options are:\n",
    "\n",
    "- ```pre``` (default): the interval ```(x[i-1], x[i]]``` has the value ```y[i]```.\n",
    "- ```post```the interval ```[x[i], x[i+1])``` has the value ```y[i]```\n",
    "- ```mid```: steps occur half-way between the x positions"
   ]
  },
  {
   "cell_type": "code",
   "execution_count": null,
   "id": "19ff02d2",
   "metadata": {},
   "outputs": [],
   "source": [
    "tas1d = ds.tas.isel(lat=10, lon=10).isel(time=slice(None,None,60)) #every 5 years\n",
    "tas1d.plot.step(where=\"mid\")"
   ]
  },
  {
   "cell_type": "markdown",
   "id": "d306eba1",
   "metadata": {},
   "source": [
    "This is particularly handy when plotting data grouped with ```Dataset.groupby_bins()```.\n",
    "\n",
    "In this case, the ```bins``` argument is an ```int```, so it defines the number of equal-width bins in the range of x. We could also use a sequence to define the bin edges allowing for non-uniform bin width."
   ]
  },
  {
   "cell_type": "code",
   "execution_count": null,
   "id": "51fdff22",
   "metadata": {},
   "outputs": [],
   "source": [
    "tas_grp = ds.tas.mean([\"time\", \"lon\"]).groupby_bins(group=\"lat\", bins=5) #[0, 23.5, 66.5, 90]\n",
    "tas_mean = tas_grp.mean()\n",
    "tas_std = tas_grp.std()\n",
    "\n",
    "tas_mean.plot.step()\n",
    "(tas_mean + tas_std).plot.step(ls=\":\")\n",
    "(tas_mean - tas_std).plot.step(ls=\":\")\n",
    "\n",
    "plt.title(\"Zonal mean temperature\")"
   ]
  },
  {
   "cell_type": "markdown",
   "id": "3bcaac96",
   "metadata": {},
   "source": [
    "## Faceting\n",
    "\n",
    "It is an effective way of visualizing variations of 3D data where 2D slices are visualized in a panel (subplot) and the third dimensions is varied among panels.\n",
    "\n",
    "Let's start by computing the monthly means. Note that the dimensions are now ```lat```, ```lon```, ```month```."
   ]
  },
  {
   "cell_type": "code",
   "execution_count": null,
   "id": "8c551dee",
   "metadata": {},
   "outputs": [],
   "source": [
    "monthly_means = ds.groupby(\"time.month\").mean()\n",
    "# xarray's groupby reductions drop attributes. Let's assign them back so we get nice labels.\n",
    "monthly_means.tas.attrs = ds.tas.attrs\n",
    "monthly_means"
   ]
  },
  {
   "cell_type": "markdown",
   "id": "6c2d0ad4",
   "metadata": {},
   "source": [
    "We want to visualize how the monthly mean air temperature varies with  month of the year.\n",
    "\n",
    "The simplest way is to specify the ```row``` or ```col``` kwargs which are expected to be a dimension name. Here we use ```month``` so that each panel of the plot presents the mean temperature field in a given month. Since a 12 column plot would be too small to interpret, we can “wrap” the facets into multiple rows using col_wrap"
   ]
  },
  {
   "cell_type": "code",
   "execution_count": null,
   "id": "d832e890",
   "metadata": {},
   "outputs": [],
   "source": [
    "fg = monthly_means.tas.plot(\n",
    "    col=\"month\",\n",
    "    col_wrap=3,  # each row has a maximum of 3 columns\n",
    ")"
   ]
  },
  {
   "cell_type": "markdown",
   "id": "6407dd81",
   "metadata": {},
   "source": [
    "We can customize our plot as for not-faceted plots"
   ]
  },
  {
   "cell_type": "code",
   "execution_count": null,
   "id": "a7f3fd08",
   "metadata": {},
   "outputs": [],
   "source": [
    "fg = monthly_means.tas.plot(\n",
    "    col=\"month\",\n",
    "    col_wrap=4,\n",
    "    robust=True,\n",
    "    cmap=mpl.cm.coolwarm,\n",
    "    cbar_kwargs={\n",
    "        \"orientation\": \"horizontal\",\n",
    "        \"shrink\": 0.8,\n",
    "        \"aspect\": 40,\n",
    "        \"pad\": 0.1,\n",
    "    },\n",
    ")"
   ]
  },
  {
   "cell_type": "code",
   "execution_count": null,
   "id": "c0b80905",
   "metadata": {},
   "outputs": [],
   "source": [
    "fg = monthly_means.tas.plot(col=\"month\", col_wrap=4)\n",
    "\n",
    "# Plot contours on each panel\n",
    "fg.map_dataarray(\n",
    "    xr.plot.contour, x=\"lon\", y=\"lat\", colors=\"k\", levels=13, add_colorbar=False\n",
    ")\n",
    "\n",
    "# Add a red point on Rome, Italy\n",
    "fg.map(lambda: plt.plot(12.496366, 41.902782, markersize=20, marker=\".\", color=\"r\"))"
   ]
  },
  {
   "cell_type": "markdown",
   "id": "ed41fde8",
   "metadata": {},
   "source": [
    "Faceting also works for line plots."
   ]
  },
  {
   "cell_type": "code",
   "execution_count": null,
   "id": "db856c25",
   "metadata": {},
   "outputs": [],
   "source": [
    "fg = ds.tas.groupby(\"time.year\").mean().sel(lat=[-70,-30,0,30,70],method=\"nearest\").sel(year=slice(None,None,11)).plot(\n",
    "   x=\"lon\", hue=\"lat\", col=\"year\", col_wrap=4\n",
    ")"
   ]
  },
  {
   "cell_type": "markdown",
   "id": "d78e78a7",
   "metadata": {},
   "source": [
    "### Other types of plot\n",
    "\n",
    "Contour plot using ```DataArray.plot.contour()```"
   ]
  },
  {
   "cell_type": "code",
   "execution_count": null,
   "id": "a567fc9a",
   "metadata": {},
   "outputs": [],
   "source": [
    "ds.tas.isel(time=0).plot.contour()"
   ]
  },
  {
   "cell_type": "markdown",
   "id": "c7ac561f",
   "metadata": {},
   "source": [
    "Filled contour plot using ```DataArray.plot.contourf()```"
   ]
  },
  {
   "cell_type": "code",
   "execution_count": null,
   "id": "36198b0c",
   "metadata": {},
   "outputs": [],
   "source": [
    "ds.tas.isel(time=0).plot.contourf()"
   ]
  },
  {
   "cell_type": "markdown",
   "id": "e9cc0b68",
   "metadata": {},
   "source": [
    "Surface plot using ```DataArray.plot.surface()```"
   ]
  },
  {
   "cell_type": "code",
   "execution_count": null,
   "id": "ada91592",
   "metadata": {},
   "outputs": [],
   "source": [
    "ds.tas.T.isel(time=0).plot.surface()"
   ]
  },
  {
   "cell_type": "markdown",
   "id": "9d3eeb18",
   "metadata": {},
   "source": [
    "Since ```xarray```’s default plotting functionality builds on ```matplotlib```, we can seamlessly use ```cartopy``` to make nice maps. The [**Quick_Start_cartopy**](Quick_Start_cartopy.ipynb) notebook shows some basic examples on how to use ```cartopy``` with ```matplotlib``` to create professional and publishable maps with only a few lines of code."
   ]
  }
 ],
 "metadata": {
  "kernelspec": {
   "display_name": "Python 3 (ipykernel)",
   "language": "python",
   "name": "python3"
  },
  "language_info": {
   "codemirror_mode": {
    "name": "ipython",
    "version": 3
   },
   "file_extension": ".py",
   "mimetype": "text/x-python",
   "name": "python",
   "nbconvert_exporter": "python",
   "pygments_lexer": "ipython3",
   "version": "3.9.7"
  }
 },
 "nbformat": 4,
 "nbformat_minor": 5
}
