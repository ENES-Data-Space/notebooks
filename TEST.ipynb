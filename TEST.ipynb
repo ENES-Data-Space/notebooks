{
 "cells": [
  {
   "cell_type": "code",
   "execution_count": null,
   "id": "f769845d-85c8-4ca2-948d-b74f4949cd86",
   "metadata": {},
   "outputs": [],
   "source": [
    "print(\"TEST\")"
   ]
  }
 ],
 "metadata": {
  "kernelspec": {
   "display_name": "Python 3 (ipykernel)",
   "language": "python",
   "name": "python3"
  },
  "language_info": {
   "codemirror_mode": {
    "name": "ipython",
    "version": 3
   },
   "file_extension": ".py",
   "mimetype": "text/x-python",
   "name": "python",
   "nbconvert_exporter": "python",
   "pygments_lexer": "ipython3",
   "version": "3.10.6"
  }
 },
 "nbformat": 4,
 "nbformat_minor": 5
}
