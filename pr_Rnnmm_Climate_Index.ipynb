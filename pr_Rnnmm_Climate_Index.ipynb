{
 "cells": [
  {
   "cell_type": "markdown",
   "metadata": {},
   "source": [
    "# Precipitation climate index\n",
    "Compute the annual count of days when precipitation exceeds a given threshold (e.g., 10mm)\n",
    "\n",
    "Let RR<sub>ij</sub> be the daily precipitation amount on day i in period j. Count the number of days where \n",
    "\n",
    "\\begin{equation*} \n",
    "RRij ≥ 10mm\n",
    "\\end{equation*}\n",
    "\n",
    "The notebook will exploit:\n",
    "- an **intake** catalog to search and discover CMIP6 data\n",
    "- **xarray** to compute the climate index\n",
    "- **Cartopy** and **Matplotlib** to plot the results.\n",
    "\n",
    "Make sure to select **Python 3** as Notebook Kernel.\n",
    "\n",
    "Recommended profile: LARGE"
   ]
  },
  {
   "cell_type": "markdown",
   "metadata": {},
   "source": [
    "Import the main Python modules"
   ]
  },
  {
   "cell_type": "code",
   "execution_count": null,
   "metadata": {},
   "outputs": [],
   "source": [
    "import os, intake\n",
    "import multiprocessing\n",
    "import dask\n",
    "import xarray as xr\n",
    "import numpy as np\n",
    "import pandas as pd\n",
    "import ipywidgets as widgets\n",
    "from os.path import expanduser\n",
    "home = expanduser(\"~\")"
   ]
  },
  {
   "cell_type": "markdown",
   "metadata": {},
   "source": [
    "**Search and discover datasets by using *intake-esm***\n",
    "\n",
    "We use the **intake-esm** (https://github.com/intake/intake-esm) data cataloging utility to search, discover, access and load data.\n",
    "\n",
    "An ESM (Earth System Model) collection definition file is used by intake-esm to establish a link to a database (CSV file) that contains data assets locations and associated metadata (i.e., which experiment, model, ...).\n",
    "\n",
    "The ESM collection file (**CMIP6_ESM_colletion_file.json**) is located under the **data** folder."
   ]
  },
  {
   "cell_type": "code",
   "execution_count": null,
   "metadata": {},
   "outputs": [],
   "source": [
    "esm_file = home+\"/data/CMIP6_ESM_colletion_file.json\"\n",
    "col = intake.open_esm_datastore(esm_file)\n",
    "col"
   ]
  },
  {
   "cell_type": "markdown",
   "metadata": {},
   "source": [
    "The output shows how the CMIP6 catalog is organized. Specifically, it provides some aggregated information over the metadata fields, which represents the core components to describe CMIP6 datasets according to the data reference syntax.\n",
    "\n",
    "The in-memory representation for the catalog is a Pandas DataFrame. We can inspect it with **col.df**."
   ]
  },
  {
   "cell_type": "code",
   "execution_count": null,
   "metadata": {},
   "outputs": [],
   "source": [
    "col.df.head()"
   ]
  },
  {
   "cell_type": "markdown",
   "metadata": {},
   "source": [
    "Get unique values for **models** and **experiments** in the catalog."
   ]
  },
  {
   "cell_type": "code",
   "execution_count": null,
   "metadata": {},
   "outputs": [],
   "source": [
    "uniques = col.unique().loc[[\"source_id\",\"experiment_id\"]].tolist()\n",
    "import pprint\n",
    "pprint.pprint(uniques, compact=True)"
   ]
  },
  {
   "cell_type": "markdown",
   "metadata": {},
   "source": [
    "Select one of the models and experiments available"
   ]
  },
  {
   "cell_type": "code",
   "execution_count": null,
   "metadata": {},
   "outputs": [],
   "source": [
    "sources = widgets.Dropdown(\n",
    "    options=uniques[0],\n",
    "    value=\"CMCC-CM2-SR5\",\n",
    "    description='Source:',\n",
    "    disabled=False,\n",
    ")\n",
    "display(sources)\n",
    "\n",
    "experiments = widgets.Dropdown(\n",
    "    options=uniques[1],\n",
    "    value=\"ssp245\",\n",
    "    description='Experiment:',\n",
    "    disabled=False,\n",
    ")\n",
    "display(experiments)"
   ]
  },
  {
   "cell_type": "code",
   "execution_count": null,
   "metadata": {},
   "outputs": [],
   "source": [
    "print(sources.value)\n",
    "print(experiments.value)"
   ]
  },
  {
   "cell_type": "markdown",
   "metadata": {},
   "source": [
    "Execute a query against the catalog to retrieve entries satisfyng the search criteria"
   ]
  },
  {
   "cell_type": "code",
   "execution_count": null,
   "metadata": {},
   "outputs": [],
   "source": [
    "query = dict( experiment_id=experiments.value,\n",
    "             source_id=sources.value, \n",
    "             variable_id=\"pr\",\n",
    "             table_id=\"day\"\n",
    ")\n",
    "cat = col.search(**query)\n",
    "cat.df"
   ]
  },
  {
   "cell_type": "markdown",
   "metadata": {},
   "source": [
    "Load data assets into xarray datasets"
   ]
  },
  {
   "cell_type": "code",
   "execution_count": null,
   "metadata": {},
   "outputs": [],
   "source": [
    "xrdsetdict = cat.to_dataset_dict()\n",
    "xrdsetdict"
   ]
  },
  {
   "cell_type": "code",
   "execution_count": null,
   "metadata": {},
   "outputs": [],
   "source": [
    "dspr = xrdsetdict[[key for key in xrdsetdict.keys()] [0]]\n",
    "dspr"
   ]
  },
  {
   "cell_type": "markdown",
   "metadata": {},
   "source": [
    "Select the time ranges of interest among those available for the filtered data and run the next cell to check the selection."
   ]
  },
  {
   "cell_type": "code",
   "execution_count": null,
   "metadata": {},
   "outputs": [],
   "source": [
    "start_time = widgets.Dropdown(\n",
    "    options=np.unique(dspr.time.dt.year.values),\n",
    "    value=[np.unique(dspr.time.dt.year.values)[0]],\n",
    "    description='Start Time:',\n",
    "    disabled=False,\n",
    ")\n",
    "display(start_time)\n",
    "\n",
    "end_time = widgets.Dropdown(\n",
    "    options=np.unique(dspr.time.dt.year.values),\n",
    "    value=2050,\n",
    "    description='End Time:',\n",
    "    disabled=False,\n",
    ")\n",
    "display(end_time)"
   ]
  },
  {
   "cell_type": "code",
   "execution_count": null,
   "metadata": {},
   "outputs": [],
   "source": [
    "print(start_time.value)\n",
    "print(end_time.value)\n",
    "tashist = dspr.isel(member_id=0).sel(time=dspr.time.dt.year.isin(range(start_time.value, end_time.value+1)))\n",
    "tashist"
   ]
  },
  {
   "cell_type": "markdown",
   "metadata": {},
   "source": [
    "Count the number of days (on yearly basis) exceeding the given threshold\n",
    "\n",
    "**NOTE:** The precipitation is expressed in *kg m-2 s-1*, so a scale factor is needed to convert the unit in *mm/day*."
   ]
  },
  {
   "cell_type": "code",
   "execution_count": null,
   "metadata": {},
   "outputs": [],
   "source": [
    "# EUROPE\n",
    "north= 70.94985882321207\n",
    "south= 35.049860308608224\n",
    "east= 40\n",
    "west= -24.950139509199722\n",
    "\n",
    "def annual_rnmm(tashist, mm_threshold):\n",
    "    \n",
    "    def _count_rnmm(x, axis):\n",
    "            factor=86400  # 1 kg/m2/s = 86400 mm/day\n",
    "            return np.sum(x >= (mm_threshold/factor), axis=axis)\n",
    "        \n",
    "    total = tashist['pr'].sel(lat=slice(south,north), lon=slice(west,east)).groupby('time.year').reduce(_count_rnmm)\n",
    "    return total\n",
    "\n",
    "mm_threshold=10.0\n",
    "rnmm = annual_rnmm(tashist, mm_threshold)\n",
    "result = rnmm.compute()\n",
    "rnmm"
   ]
  },
  {
   "cell_type": "markdown",
   "metadata": {},
   "source": [
    "Get coordinate arrays"
   ]
  },
  {
   "cell_type": "code",
   "execution_count": null,
   "metadata": {},
   "outputs": [],
   "source": [
    "rnmm.coords"
   ]
  },
  {
   "cell_type": "markdown",
   "metadata": {},
   "source": [
    "Select one year (whole spatial domain)"
   ]
  },
  {
   "cell_type": "code",
   "execution_count": null,
   "metadata": {},
   "outputs": [],
   "source": [
    "year=2050\n",
    "rnmm_one_year=rnmm.sel(year=year)\n",
    "rnmm_one_year"
   ]
  },
  {
   "cell_type": "markdown",
   "metadata": {},
   "source": [
    "Plot the results on a map"
   ]
  },
  {
   "cell_type": "code",
   "execution_count": null,
   "metadata": {},
   "outputs": [],
   "source": [
    "%matplotlib inline\n",
    "import cartopy.crs as ccrs\n",
    "import matplotlib.pyplot as plt\n",
    "from cartopy.mpl.geoaxes import GeoAxes\n",
    "from cartopy.util import add_cyclic_point\n",
    "import numpy as np\n",
    "import warnings\n",
    "warnings.filterwarnings(\"ignore\")\n",
    "\n",
    "lat = rnmm_one_year['lat'].values\n",
    "lon = rnmm_one_year['lon'].values\n",
    "var = rnmm_one_year.values\n",
    "\n",
    "fig = plt.figure(figsize=(15, 6), dpi=100)\n",
    "\n",
    "#Add Geo axes to the figure with the specified projection (PlateCarree)\n",
    "projection = ccrs.PlateCarree()\n",
    "ax = plt.axes(projection=projection)\n",
    "\n",
    "#Draw coastline and gridlines\n",
    "ax.coastlines()\n",
    "gl = ax.gridlines(crs=projection, draw_labels=True, linewidth=1, color='black', alpha=0.9, linestyle=':')\n",
    "gl.xlabels_top = False\n",
    "gl.ylabels_right = False\n",
    "\n",
    "var = np.reshape(var, (len(lat), len(lon)))\n",
    "\n",
    "#Wraparound points in longitude\n",
    "var_cyclic, lon_cyclic = add_cyclic_point(var, coord=lon)\n",
    "x, y = np.meshgrid(lon_cyclic,lat)\n",
    "\n",
    "#Define color levels for color bar\n",
    "levStep = (np.max(var)-np.min(var))/15\n",
    "clevs = np.arange(np.min(var),np.max(var)+levStep,levStep)\n",
    "\n",
    "#Set filled contour plot\n",
    "cnplot = ax.contourf(x, y, var_cyclic, clevs, transform=projection,cmap=plt.cm.jet)\n",
    "plt.colorbar(cnplot,ax=ax)\n",
    "\n",
    "#ax.set_aspect('auto', adjustable=None)\n",
    "plt.title('R10mm (year '+str(year)+')')\n",
    "plt.show()"
   ]
  },
  {
   "cell_type": "markdown",
   "metadata": {},
   "source": [
    "Select one spatial point (whole time series)"
   ]
  },
  {
   "cell_type": "code",
   "execution_count": null,
   "metadata": {},
   "outputs": [],
   "source": [
    "rnmm_one_point=rnmm.sel(lat=54, lon=7,method='nearest')\n",
    "rnmm_one_point"
   ]
  },
  {
   "cell_type": "markdown",
   "metadata": {},
   "source": [
    "Plot results on a graph"
   ]
  },
  {
   "cell_type": "code",
   "execution_count": null,
   "metadata": {},
   "outputs": [],
   "source": [
    "%matplotlib inline\n",
    "\n",
    "import matplotlib.pyplot as plt\n",
    "y = rnmm_one_point.values\n",
    "x = rnmm_one_point.year.values\n",
    "plt.figure(figsize=(11, 5), dpi=100)\n",
    "plt.plot(x, y)\n",
    "\n",
    "plt.ylabel(\"mm\")\n",
    "plt.xlabel(\"years\")\n",
    "plt.title(\"(lat,lon) = (\"+str(rnmm_one_point.lat.values)+',' +str(rnmm_one_point.lon.values)+\")\")\n",
    "plt.xticks([p for p in x[::1]], x[::1], rotation='vertical')\n",
    "plt.show()"
   ]
  }
 ],
 "metadata": {
  "kernelspec": {
   "display_name": "Python 3 (ipykernel)",
   "language": "python",
   "name": "python3"
  },
  "language_info": {
   "codemirror_mode": {
    "name": "ipython",
    "version": 3
   },
   "file_extension": ".py",
   "mimetype": "text/x-python",
   "name": "python",
   "nbconvert_exporter": "python",
   "pygments_lexer": "ipython3",
   "version": "3.10.6"
  }
 },
 "nbformat": 4,
 "nbformat_minor": 4
}
