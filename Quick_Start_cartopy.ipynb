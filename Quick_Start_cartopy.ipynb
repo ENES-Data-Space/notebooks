{
 "cells": [
  {
   "cell_type": "markdown",
   "id": "3e3c5c34",
   "metadata": {},
   "source": [
    "# Getting started with Cartopy"
   ]
  },
  {
   "cell_type": "markdown",
   "id": "337b00ac",
   "metadata": {},
   "source": [
    "[**cartopy**](https://scitools.org.uk/cartopy/docs/latest/) is a Python package designed for geospatial data processing in order to produce maps and other geospatial data analyses. It makes use of the powerful ```PROJ```, ```NumPy``` and ```Shapely``` libraries and includes a programmatic interface built on top of ```matplotlib``` for the creation of publication quality maps."
   ]
  },
  {
   "cell_type": "markdown",
   "id": "e02970e3",
   "metadata": {},
   "source": [
    "First of all, let's import all the required Python modules"
   ]
  },
  {
   "cell_type": "code",
   "execution_count": null,
   "id": "61e4eb1e",
   "metadata": {},
   "outputs": [],
   "source": [
    "%matplotlib inline\n",
    "import cartopy.crs as ccrs\n",
    "from cartopy.mpl.geoaxes import GeoAxes\n",
    "from cartopy.util import add_cyclic_point\n",
    "import numpy as np\n",
    "import pandas as pd\n",
    "import xarray as xr\n",
    "import matplotlib.pyplot as plt\n",
    "import matplotlib as mpl\n",
    "import glob\n",
    "import warnings\n",
    "warnings.filterwarnings(\"ignore\")\n",
    "from os.path import expanduser\n",
    "home = expanduser(\"~\")"
   ]
  },
  {
   "cell_type": "markdown",
   "id": "219a926a",
   "metadata": {},
   "source": [
    "All the input datasets are located under the ```data``` folder and organized according to the directory structure defined in the [**CMIP6 Data Reference Syntax**](https://pcmdi.llnl.gov/CMIP6/Guide/dataUsers.html). \n",
    "\n",
    "In this notebook we are going to use a ```tas```(near-surface air temperature) file which is part of the ```CMIP6``` dataset produced by ```CMCC``` from the ```CMCC-CM2-SR5``` global coupled general circulation model and related to the ```ssp585``` experiment (update of emission-driven RCP8.5 based on SSP5). "
   ]
  },
  {
   "cell_type": "code",
   "execution_count": null,
   "id": "a92947fa",
   "metadata": {},
   "outputs": [],
   "source": [
    "input_file = home+\"/data/CMIP6/ScenarioMIP/CMCC/CMCC-CM2-SR5/ssp585/r1i1p1f1/Amon/tas/gn/v20200622/tas_Amon_CMCC-CM2-SR5_ssp585_r1i1p1f1_gn_201501-210012.nc\"\n",
    "ds = xr.open_dataset(input_file).load()\n",
    "ds"
   ]
  },
  {
   "cell_type": "markdown",
   "id": "538937e7",
   "metadata": {},
   "source": [
    "### Plotting a Two-dimensional Field\n",
    "\n",
    "As a first example, we want to plot on a map the near-surface air temperature at a specific time point in the ```PlateCarree``` projection **without** specifying the ```transform``` argument. We can select the timestep by its index (e.g. ```time_index = 0``` to get ```January 2015```).\n",
    "\n",
    "Since data happen to be defined in the same coordinate system as we are plotting in, this actually works correctly."
   ]
  },
  {
   "cell_type": "code",
   "execution_count": null,
   "id": "62f19d4a",
   "metadata": {},
   "outputs": [],
   "source": [
    "fig = plt.figure(figsize=(10, 5), dpi=100)\n",
    "\n",
    "#Add Geo axes to the figure with the specified projection (PlateCarree)\n",
    "projection = ccrs.PlateCarree()\n",
    "ax = plt.axes(projection=projection)\n",
    "\n",
    "#Draw coastline and gridlines\n",
    "ax.coastlines()\n",
    "\n",
    "gl = ax.gridlines(crs=projection, draw_labels=True, linewidth=1, color='black', alpha=0.9, linestyle=':')\n",
    "gl.xlabels_top = False\n",
    "gl.ylabels_right = False\n",
    "\n",
    "#Get the near-surface air temperature field and the dimensions values\n",
    "time_index = 0\n",
    "tas = ds.tas.isel(time=time_index)\n",
    "lat = ds.lat\n",
    "lon = ds.lon\n",
    "tas = np.reshape(tas, (len(lat), len(lon)))\n",
    "\n",
    "#Wraparound points in longitude\n",
    "var_cyclic, lon_cyclic = add_cyclic_point(tas, coord=np.asarray(lon))\n",
    "x, y = np.meshgrid(lon_cyclic,lat)\n",
    "\n",
    "#Define color levels for color bar\n",
    "levStep = (np.nanmax(tas)-np.nanmin(tas))/20\n",
    "clevs = np.arange(np.nanmin(tas),np.nanmax(tas)+levStep,levStep)\n",
    "\n",
    "#Set filled contour plot\n",
    "cnplot = ax.contourf(x, y, var_cyclic, clevs,cmap=plt.cm.jet)  # didn't use transform, but looks ok...\n",
    "plt.colorbar(cnplot,ax=ax)\n",
    "\n",
    "ax.set_aspect('auto', adjustable=None)\n",
    "\n",
    "plt.title('Near-Surface Air Temperature (deg K) - '+str(pd.to_datetime(ds.time.values[time_index].strftime(\"%Y%m%d %H%M%S\"))))\n",
    "plt.show()"
   ]
  },
  {
   "cell_type": "markdown",
   "id": "ec89a325",
   "metadata": {},
   "source": [
    "Now let’s add in the ```transform``` keyword in the ```contourf``` method when we plot.\n",
    "\n",
    "Note that the plot doesn’t change. This is because the default assumption when the ```transform``` argument **is not supplied** is that the coordinate system matches the projection, which has been the case so far."
   ]
  },
  {
   "cell_type": "code",
   "execution_count": null,
   "id": "76f7e2b4",
   "metadata": {},
   "outputs": [],
   "source": [
    "fig = plt.figure(figsize=(10, 5), dpi=100)\n",
    "\n",
    "#Add Geo axes to the figure with the specified projection (PlateCarree)\n",
    "projection = ccrs.PlateCarree()\n",
    "ax = plt.axes(projection=projection)\n",
    "\n",
    "#Draw coastline and gridlines\n",
    "ax.coastlines()\n",
    "\n",
    "gl = ax.gridlines(crs=projection, draw_labels=True, linewidth=1, color='black', alpha=0.9, linestyle=':')\n",
    "gl.xlabels_top = False\n",
    "gl.ylabels_right = False\n",
    "\n",
    "#Get the near-surface air temperature field and the dimensions values\n",
    "time_index = 0\n",
    "tas = ds.tas.isel(time=time_index)\n",
    "lat = ds.lat\n",
    "lon = ds.lon\n",
    "tas = np.reshape(tas, (len(lat), len(lon)))\n",
    "\n",
    "#Wraparound points in longitude\n",
    "var_cyclic, lon_cyclic = add_cyclic_point(tas, coord=np.asarray(lon))\n",
    "x, y = np.meshgrid(lon_cyclic,lat)\n",
    "\n",
    "#Define color levels for color bar\n",
    "levStep = (np.nanmax(tas)-np.nanmin(tas))/20\n",
    "clevs = np.arange(np.nanmin(tas),np.nanmax(tas)+levStep,levStep)\n",
    "\n",
    "#Set filled contour plot\n",
    "cnplot = ax.contourf(x, y, var_cyclic, clevs,transform=projection, cmap=plt.cm.jet)  # transform keyword provided\n",
    "plt.colorbar(cnplot,ax=ax)\n",
    "\n",
    "ax.set_aspect('auto', adjustable=None)\n",
    "\n",
    "plt.title('Near-Surface Air Temperature (deg K) - '+str(pd.to_datetime(ds.time.values[time_index].strftime(\"%Y%m%d %H%M%S\"))))\n",
    "plt.show()"
   ]
  },
  {
   "cell_type": "markdown",
   "id": "7da764c5",
   "metadata": {},
   "source": [
    "Now we’ll try again using a different projection for our plot. We’ll plot onto an ```Orthographic``` projection, with ```central_longitude=35.0``` and ```central_latitude=35.0```. "
   ]
  },
  {
   "cell_type": "code",
   "execution_count": null,
   "id": "c7a10037",
   "metadata": {},
   "outputs": [],
   "source": [
    "time_index = 0\n",
    "p = ds.tas.isel(time=time_index).plot(\n",
    "    subplot_kws=dict(projection=ccrs.Orthographic(35, 35), facecolor=\"gray\"),\n",
    "    transform=ccrs.PlateCarree(),\n",
    ")\n",
    "p.axes.set_global()\n",
    "p.axes.coastlines()"
   ]
  },
  {
   "cell_type": "markdown",
   "id": "9f576676",
   "metadata": {},
   "source": [
    "And the same plot with different ```central_longitude``` and ```central_latitude```. "
   ]
  },
  {
   "cell_type": "code",
   "execution_count": null,
   "id": "1541d25d",
   "metadata": {},
   "outputs": [],
   "source": [
    "p = ds.tas.isel(time=time_index).plot(\n",
    "    subplot_kws=dict(projection=ccrs.Orthographic(-90, 50), facecolor=\"gray\"),\n",
    "    transform=ccrs.PlateCarree(),\n",
    ")\n",
    "p.axes.set_global()\n",
    "p.axes.coastlines()"
   ]
  },
  {
   "cell_type": "markdown",
   "id": "efe370a3",
   "metadata": {},
   "source": [
    "### Faceted maps\n",
    "\n",
    "We can make faceted maps. Since ```FacetGrid``` creates the axes it plots to, we need to pass the ```projection``` kwarg in ```subplot_kws```. This makes sure that the subplots are set up properly for cartopy."
   ]
  },
  {
   "cell_type": "code",
   "execution_count": null,
   "id": "9ad9ed21",
   "metadata": {},
   "outputs": [],
   "source": [
    "monthly_means = ds.groupby(\"time.month\").mean()\n",
    "monthly_means.tas.attrs = ds.tas.attrs\n",
    "\n",
    "fg = monthly_means.tas.isel(month=[1, 2, 3]).plot(\n",
    "    col=\"month\",\n",
    "    transform=ccrs.PlateCarree(),\n",
    "    subplot_kws={\n",
    "        \"projection\":ccrs.PlateCarree()\n",
    "    },\n",
    "    cbar_kwargs={\"orientation\": \"horizontal\", \"shrink\": 0.8, \"aspect\": 40},\n",
    "    robust=True,\n",
    ")\n",
    "\n",
    "fg.map(lambda: plt.gca().coastlines())"
   ]
  },
  {
   "cell_type": "markdown",
   "id": "5f84600a",
   "metadata": {},
   "source": [
    "When faceting on maps, the projection can be transferred to the plot function using the ```subplot_kws``` keyword. \n",
    "\n",
    "The axes for the subplots created by faceting are accessible in the object returned by ```plot```.\n",
    "\n",
    "This is the plot with the ```LambertConformal``` projection..."
   ]
  },
  {
   "cell_type": "code",
   "execution_count": null,
   "id": "32b3ac2c",
   "metadata": {},
   "outputs": [],
   "source": [
    "monthly_means = ds.groupby(\"time.month\").mean()\n",
    "monthly_means.tas.attrs = ds.tas.attrs\n",
    "\n",
    "fg = monthly_means.tas.isel(month=[1, 2, 3]).plot(\n",
    "    col=\"month\",\n",
    "    transform=ccrs.PlateCarree(),\n",
    "    subplot_kws={\n",
    "        \"projection\": ccrs.LambertConformal(\n",
    "            central_longitude=35, central_latitude=35\n",
    "        )\n",
    "    },\n",
    "    cbar_kwargs={\"orientation\": \"horizontal\", \"shrink\": 0.8, \"aspect\": 40},\n",
    "    robust=True,\n",
    ")\n",
    "\n",
    "fg.map(lambda: plt.gca().coastlines())"
   ]
  },
  {
   "cell_type": "markdown",
   "id": "443e8626",
   "metadata": {},
   "source": [
    "... and with the ```Orthographic``` projection."
   ]
  },
  {
   "cell_type": "code",
   "execution_count": null,
   "id": "280bad4e",
   "metadata": {
    "scrolled": true
   },
   "outputs": [],
   "source": [
    "monthly_means = ds.groupby(\"time.month\").mean()\n",
    "monthly_means.tas.attrs = ds.tas.attrs\n",
    "\n",
    "fg = monthly_means.tas.isel(month=[1, 2, 3]).plot(\n",
    "    col=\"month\",\n",
    "    transform=ccrs.PlateCarree(),\n",
    "    subplot_kws={\"projection\": ccrs.Orthographic(35, 35)},\n",
    "    cbar_kwargs={\"orientation\": \"horizontal\", \"shrink\": 0.8, \"aspect\": 40},\n",
    "    robust=True,\n",
    ")\n",
    "\n",
    "fg.map(lambda: plt.gca().coastlines())\n",
    "fg.map(lambda: plt.gca().gridlines())"
   ]
  }
 ],
 "metadata": {
  "kernelspec": {
   "display_name": "Python 3 (ipykernel)",
   "language": "python",
   "name": "python3"
  },
  "language_info": {
   "codemirror_mode": {
    "name": "ipython",
    "version": 3
   },
   "file_extension": ".py",
   "mimetype": "text/x-python",
   "name": "python",
   "nbconvert_exporter": "python",
   "pygments_lexer": "ipython3",
   "version": "3.9.7"
  }
 },
 "nbformat": 4,
 "nbformat_minor": 5
}
