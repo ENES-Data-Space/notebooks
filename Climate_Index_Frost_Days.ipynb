{
 "cells": [
  {
   "cell_type": "markdown",
   "id": "49612376-02f2-494d-9283-287a7803b1fe",
   "metadata": {},
   "source": [
    "# Compute the Frost Days Climate Index"
   ]
  },
  {
   "cell_type": "markdown",
   "id": "fb085d2a-efc1-423e-b072-0ec23d6d4bbe",
   "metadata": {},
   "source": [
    "This notebook provides an example of climate data analysis performed in parallel with Dask.\n",
    "\n",
    "Let TN be the Daily Minimum Near-Surface (usually, 2 meter) Air Temperature. The Frost Days index is the number of days where\n",
    "\n",
    "\\begin{equation*} \n",
    "$TN < 0°\n",
    "\\end{equation*}\n"
   ]
  },
  {
   "cell_type": "markdown",
   "id": "c3fcf970-cbcf-4775-a8e2-2285145e1410",
   "metadata": {},
   "source": [
    "The notebook will exploit:\n",
    "\n",
    "  - the **intake** catalog to search and discover the CMIP6 datasets available in the ENES Data Space archive\n",
    "  - **Dask** and **xarray** to compute the **Frost Days** climate index in parallel\n",
    "  - **hvPlot**, **Cartopy** and **Matplotlib** to plot the analysis results\n",
    "\n",
    "Make sure to select the **Python 3 (ipykernel)** Notebook Kernel."
   ]
  },
  {
   "cell_type": "code",
   "execution_count": null,
   "id": "41694ddc-6c20-488a-9488-aa06152d4afa",
   "metadata": {},
   "outputs": [],
   "source": [
    "import os\n",
    "import dask\n",
    "import intake\n",
    "import xarray as xr\n",
    "import numpy as np\n",
    "import ipywidgets as ipw\n",
    "import hvplot.xarray\n",
    "import hvplot.pandas\n",
    "import panel as pn\n",
    "import pandas as pd\n",
    "import panel.widgets as pnw\n",
    "from os.path import expanduser\n",
    "home = expanduser(\"~\")\n",
    "from dask.distributed import Client, LocalCluster\n",
    "worker_kwargs = {'local_directory': '/home/jovyan'}"
   ]
  },
  {
   "cell_type": "markdown",
   "id": "e0be9252-fce4-4f14-9473-c529cdfdeb7b",
   "metadata": {},
   "source": [
    "### Search & Discover data with **intake-esm**\n",
    "\n",
    "Open the ESM collection file"
   ]
  },
  {
   "cell_type": "code",
   "execution_count": null,
   "id": "5b1b5db6-6e29-4e25-b074-9cfce14dfcdc",
   "metadata": {},
   "outputs": [],
   "source": [
    "esm_file = home+\"/data/CMIP6_ESM_colletion_file.json\"\n",
    "col = intake.open_esm_datastore(esm_file)\n",
    "col.df.head()"
   ]
  },
  {
   "cell_type": "markdown",
   "id": "d8bc05fe-6c0e-4099-9321-72e17b82d955",
   "metadata": {},
   "source": [
    "Select the desired *experiment*, *model* and *time resolution*.\n",
    "\n",
    "For example, we are interested in:\n",
    "  - `ssp585` experiment from the `CMCC-ESM2` model\n",
    "  - `tasmin` variable at `daily` frequency\n",
    "  - `r1i1p1f1` ensemble member"
   ]
  },
  {
   "cell_type": "code",
   "execution_count": null,
   "id": "70833143-c9b3-4eb1-9fd1-d4a65b4b6160",
   "metadata": {},
   "outputs": [],
   "source": [
    "experiments = col.unique().loc[[\"experiment_id\"]][0]"
   ]
  },
  {
   "cell_type": "code",
   "execution_count": null,
   "id": "409a504b-2bca-4c13-8860-3a4c59bb5577",
   "metadata": {},
   "outputs": [],
   "source": [
    "experiment = widgets.Dropdown(\n",
    "    options=[e for e in experiments],\n",
    "    value='ssp585',\n",
    "    description='Experiment:',\n",
    ")\n",
    "\n",
    "display(experiment)"
   ]
  },
  {
   "cell_type": "code",
   "execution_count": null,
   "id": "1f00b876-81de-4aca-a58b-ca7844b4a4a5",
   "metadata": {},
   "outputs": [],
   "source": [
    "sources = col.df.loc[col.df['experiment_id'] == experiment.value][\"source_id\"].unique()"
   ]
  },
  {
   "cell_type": "code",
   "execution_count": null,
   "id": "7bb29d82-1360-4f96-89d2-fbd202c89133",
   "metadata": {},
   "outputs": [],
   "source": [
    "source = widgets.Dropdown(\n",
    "    options=[s for s in sources],\n",
    "    value='CMCC-ESM2',\n",
    "    description='Source ID:',\n",
    ")\n",
    "\n",
    "display(source)"
   ]
  },
  {
   "cell_type": "code",
   "execution_count": null,
   "id": "c1644dd2-ef6e-43a3-8c2f-843147383c08",
   "metadata": {},
   "outputs": [],
   "source": [
    "table_id = widgets.RadioButtons(\n",
    "    options=['6hrLev','day', 'Amon'],\n",
    "    value='day',\n",
    "    description='table ID',\n",
    "    disabled=False\n",
    ")\n",
    "display(table_id)"
   ]
  },
  {
   "cell_type": "markdown",
   "id": "63aa28e3-4d74-4372-ab32-320fa12a0567",
   "metadata": {},
   "source": [
    "Perform the query against the data catalogue"
   ]
  },
  {
   "cell_type": "code",
   "execution_count": null,
   "id": "d0efa6a3-96bd-426e-a9ef-1c5296d6c74f",
   "metadata": {},
   "outputs": [],
   "source": [
    "import intake\n",
    "esm_file = home+\"/data/CMIP6_ESM_colletion_file.json\"\n",
    "col = intake.open_esm_datastore(esm_file)\n",
    "\n",
    "query = dict( \n",
    "    experiment_id=experiment.value,\n",
    "    source_id=source.value,\n",
    "    variable_id=\"tasmin\",\n",
    "    table_id=table_id.value,\n",
    "    member_id=\"r1i1p1f1\"\n",
    ")\n",
    "cat = col.search(**query)\n",
    "paths = cat.df['path']#.values\n",
    "cat.df"
   ]
  },
  {
   "cell_type": "markdown",
   "id": "005331ac-f2a2-41e2-91f5-1958882694e8",
   "metadata": {},
   "source": [
    "### Deploy a **Dask** Local cluster\n",
    "\n",
    "- Create local Scheduler and Workers: this creates a “cluster” of a scheduler and workers running on the local machine\n",
    "- Connect to and submit computation to the Dask cluster"
   ]
  },
  {
   "cell_type": "code",
   "execution_count": null,
   "id": "1d4e96ea-900d-464b-b7d1-2d28cdbe177b",
   "metadata": {},
   "outputs": [],
   "source": [
    "cluster = LocalCluster(n_workers=2, threads_per_worker=1, **worker_kwargs)\n",
    "client = Client(cluster)\n",
    "client"
   ]
  },
  {
   "cell_type": "markdown",
   "id": "5d124578-3185-4e99-85f9-726fc15e1630",
   "metadata": {},
   "source": [
    "### Start the computation"
   ]
  },
  {
   "cell_type": "markdown",
   "id": "1c978f55-1509-4abc-a60e-f87958c8d105",
   "metadata": {},
   "source": [
    "Inspect the data structure"
   ]
  },
  {
   "cell_type": "code",
   "execution_count": null,
   "id": "f1e63610-d01e-43e2-88bf-80a867c9b6f3",
   "metadata": {},
   "outputs": [],
   "source": [
    "ds = xr.open_mfdataset(paths, combine='nested', concat_dim=\"time\", parallel=True, engine='netcdf4')\n",
    "ds[\"tasmin\"]"
   ]
  },
  {
   "cell_type": "markdown",
   "id": "ab800215-0510-4c16-af26-74c637fc32ca",
   "metadata": {},
   "source": [
    "Plot the Daily Minimum Near-Surface Air Temperature for each timestep in the input datasets"
   ]
  },
  {
   "cell_type": "code",
   "execution_count": null,
   "id": "f0da4448-2b83-44e2-932d-c718547d0d3a",
   "metadata": {},
   "outputs": [],
   "source": [
    "ds[\"tasmin\"].interactive.sel(time=pnw.DiscreteSlider).plot()"
   ]
  },
  {
   "cell_type": "markdown",
   "id": "ee732985-dbd9-407a-80d1-19d23448541c",
   "metadata": {},
   "source": [
    "Define the EU bounding box"
   ]
  },
  {
   "cell_type": "code",
   "execution_count": null,
   "id": "1467c604-1d5b-436f-9a05-7f531b80b5b8",
   "metadata": {},
   "outputs": [],
   "source": [
    "# EUROPE\n",
    "north= 70.94985882321207\n",
    "south= 35.049860308608224\n",
    "east= 40\n",
    "west= -24.950139509199722"
   ]
  },
  {
   "cell_type": "markdown",
   "id": "05f0da67-0211-43e8-8633-f247926b5b71",
   "metadata": {},
   "source": [
    "Count the number of frost days on yearly basis over the EU domain:\n",
    "\n",
    "\\begin{equation*} \n",
    "    FrostDays = \\{day| TN(day) < 273.15 \\}\n",
    "\\end{equation*} \n",
    "\n",
    "Note that the temperature unit is K."
   ]
  },
  {
   "cell_type": "code",
   "execution_count": null,
   "id": "08fa5432-221e-4216-8af9-d41044ba14b1",
   "metadata": {},
   "outputs": [],
   "source": [
    "def calc_frost_days(tasmin_ds, threshold):\n",
    "\n",
    "    total = (tasmin_ds.sel(lat=slice(south,north), lon=slice(west,east)) < threshold).groupby('time.year').sum()\n",
    "    return total\n",
    " \n",
    "frost_days = calc_frost_days(ds['tasmin'], 273.15)\n",
    "result = frost_days.compute()\n",
    "frost_days"
   ]
  },
  {
   "cell_type": "markdown",
   "id": "54ab5b08-a340-44e6-8839-5adc9b2541ca",
   "metadata": {},
   "source": [
    "Use the Player widget from the Panel library to plot the result in an interactive way"
   ]
  },
  {
   "cell_type": "code",
   "execution_count": null,
   "id": "1e245731-c21a-45c0-b8c1-434324ee9f29",
   "metadata": {},
   "outputs": [],
   "source": [
    "time = pnw.Player(name='year', start=0, end=len(result.year)-1, loop_policy='loop', interval=1000)\n",
    "\n",
    "result.interactive.isel(year=time).plot()"
   ]
  },
  {
   "cell_type": "markdown",
   "id": "72a83076-87af-4317-9b81-2ede7efe6c7b",
   "metadata": {},
   "source": [
    "Export the result to a NetCDF file"
   ]
  },
  {
   "cell_type": "code",
   "execution_count": null,
   "id": "b48b3df2-604d-4d88-a4f2-e6a5b249218c",
   "metadata": {},
   "outputs": [],
   "source": [
    "result.to_netcdf(path=home+\"/work/frost_days.nc\", format=\"NETCDF4\",engine=\"netcdf4\")"
   ]
  },
  {
   "cell_type": "markdown",
   "id": "3a9dd6aa-5adc-4884-9576-0d0157f30221",
   "metadata": {},
   "source": [
    "Check the NetCDF header information through the **ncdump** command-line utility"
   ]
  },
  {
   "cell_type": "code",
   "execution_count": null,
   "id": "31cd776d-0ca2-4795-98d6-055a27b3ebb5",
   "metadata": {},
   "outputs": [],
   "source": [
    "! ncdump -h '/home/jovyan/work/frost_days.nc'"
   ]
  },
  {
   "cell_type": "markdown",
   "id": "e56bcfb8-8686-4395-9d7a-6b9d46c18f0f",
   "metadata": {},
   "source": [
    "Create an animated image with **Cartopy** and **Matplotlib** showing the yearly Frost Days in Europe until 2100."
   ]
  },
  {
   "cell_type": "code",
   "execution_count": null,
   "id": "33dbab83-8ce5-4956-adb9-b509922e4077",
   "metadata": {},
   "outputs": [],
   "source": [
    "%matplotlib inline\n",
    "import cartopy\n",
    "import cartopy.crs as ccrs\n",
    "import matplotlib.pyplot as plt\n",
    "from cartopy.mpl.geoaxes import GeoAxes\n",
    "from cartopy.util import add_cyclic_point\n",
    "import numpy as np\n",
    "import warnings\n",
    "warnings.filterwarnings(\"ignore\")\n",
    "import imageio\n",
    "import ipywidgets as widgets\n",
    "\n",
    "images = []\n",
    "img=home+'/work/yearly_frost_days_'\n",
    "\n",
    "start_year=np.min(result.year.values)\n",
    "end_year=np.max(result.year.values)\n",
    "#levStep = (np.nanmax(result.values)-np.nanmin(result.values))/20\n",
    "#clevs = np.arange(np.nanmin(result.values),np.nanmax(result.values)+levStep,levStep)\n",
    "\n",
    "levStep = (300-0)/20\n",
    "clevs = np.arange(0,300+levStep,levStep)\n",
    "\n",
    "for i in result.year.values:\n",
    "    \n",
    "    lat = result.sel(year=i).lat.values\n",
    "    lon = result.sel(year=i).lon.values\n",
    "    var = result.sel(year=i).values\n",
    "    var = np.reshape(var, (len(lat), len(lon)))\n",
    "\n",
    "    fig = plt.figure(figsize=(15, 6), dpi=100)\n",
    "\n",
    "    #Add Geo axes to the figure with the specified projection (PlateCarree)\n",
    "    projection = ccrs.PlateCarree()\n",
    "    ax = plt.axes(projection=projection)\n",
    "\n",
    "    #Draw coastline and gridlines\n",
    "    ax.coastlines()\n",
    "\n",
    "    gl = ax.gridlines(crs=projection, draw_labels=True, linewidth=1, color='black', alpha=0.9, linestyle=':')\n",
    "    gl.xlabels_top = False\n",
    "    gl.ylabels_right = False\n",
    "    \n",
    "    #Wraparound points in longitude\n",
    "    var_cyclic, lon_cyclic = add_cyclic_point(var, coord=np.asarray(lon))\n",
    "    x, y = np.meshgrid(lon_cyclic,lat)\n",
    "\n",
    "    #Set filled contour plot\n",
    "    cnplot = ax.contourf(x, y, var_cyclic, clevs, transform=projection,cmap=plt.cm.Oranges)\n",
    "    plt.colorbar(cnplot,ax=ax)\n",
    "    \n",
    "    plt.title('Frost Days (year ' + str(i)+')')\n",
    "    plt.savefig(img+str(i)+'.png', dpi=fig.dpi, bbox_inches='tight')\n",
    "    plt.close()\n",
    "\n",
    "    images.append(imageio.imread(img+str(i)+'.png')) \n",
    "    try:\n",
    "        os.remove(img+str(i)+'.png')\n",
    "    except:\n",
    "        pass\n",
    "             \n",
    "args = { 'duration': 0.5 }\n",
    "imageio.mimsave(home+'/work/Frost Days_{}-{}.gif'.format(start_year,end_year), images, 'gif', **args)"
   ]
  },
  {
   "cell_type": "code",
   "execution_count": null,
   "id": "8cc77a7a-9386-436a-a768-adea2ac0146a",
   "metadata": {},
   "outputs": [],
   "source": [
    "with open(home+'/work/Frost Days_{}-{}.gif'.format(start_year,end_year), \"rb\") as file:\n",
    "    image = file.read()\n",
    "\n",
    "widgets.Image(\n",
    "    value=image,\n",
    "    format='gif'\n",
    ")"
   ]
  },
  {
   "cell_type": "markdown",
   "id": "64a6b405-4556-4c29-8ef6-a5235b2dbb97",
   "metadata": {},
   "source": [
    "### Shutdown the **Dask** Local cluster\n",
    "\n",
    "When you’re done using it, you can shutdown the cluster: this will cleanly close all the connected dask workers, as well as the scheduler. "
   ]
  },
  {
   "cell_type": "code",
   "execution_count": null,
   "id": "fe641298-1c12-4b56-94b0-abe84f4dde7f",
   "metadata": {},
   "outputs": [],
   "source": [
    "client.shutdown()"
   ]
  },
  {
   "cell_type": "code",
   "execution_count": null,
   "id": "5d62f1a6-ca9e-416c-b1f5-3ee094841d22",
   "metadata": {},
   "outputs": [],
   "source": [
    "client"
   ]
  }
 ],
 "metadata": {
  "kernelspec": {
   "display_name": "Python 3 (ipykernel)",
   "language": "python",
   "name": "python3"
  },
  "language_info": {
   "codemirror_mode": {
    "name": "ipython",
    "version": 3
   },
   "file_extension": ".py",
   "mimetype": "text/x-python",
   "name": "python",
   "nbconvert_exporter": "python",
   "pygments_lexer": "ipython3",
   "version": "3.10.6"
  }
 },
 "nbformat": 4,
 "nbformat_minor": 5
}
