{
 "cells": [
  {
   "cell_type": "markdown",
   "metadata": {},
   "source": [
    "# Search and discover data using ```intake-esm```\n",
    "\n",
    "This example shows how to exploit the ```intake-esm``` features to \n",
    "- search and discover the CMIP6 datasets available in the ENES Data Space archive \n",
    "- load the corresponding data assets (NetCDF files) into xarray datasets."
   ]
  },
  {
   "cell_type": "markdown",
   "metadata": {},
   "source": [
    "Finding, investigating and loading assets into data array containers such as xarray can be a daunting task due to the large number of files a user may be interested in. \n",
    "\n",
    "**```intake-esm```** (https://github.com/intake/intake-esm) is a data cataloging utility built on top of ```intake```, ```pandas``` and ```xarray``` aiming to address these issues by providing the necessary functionalities for data searching, discovering, access/loading."
   ]
  },
  {
   "cell_type": "markdown",
   "metadata": {},
   "source": [
    "Import the required modules"
   ]
  },
  {
   "cell_type": "code",
   "execution_count": null,
   "metadata": {},
   "outputs": [],
   "source": [
    "import intake"
   ]
  },
  {
   "cell_type": "markdown",
   "metadata": {},
   "source": [
    "**Open an ESM (Earth System Model) collection definition file**: intake-esm will use it to establish a link to a database (CSV file) that contains data assets locations and associated metadata."
   ]
  },
  {
   "cell_type": "markdown",
   "metadata": {},
   "source": [
    "The ESM collection file is located under the ```data``` folder (```CMIP6_ESM_colletion_file.json```)"
   ]
  },
  {
   "cell_type": "code",
   "execution_count": null,
   "metadata": {},
   "outputs": [],
   "source": [
    "from os.path import expanduser\n",
    "home = expanduser(\"~\")\n",
    "esm_file = home+\"/data/CMIP6_ESM_colletion_file.json\"\n",
    "col = intake.open_esm_datastore(esm_file)\n",
    "col"
   ]
  },
  {
   "cell_type": "code",
   "execution_count": null,
   "metadata": {},
   "outputs": [],
   "source": [
    "col.df.head()"
   ]
  },
  {
   "cell_type": "code",
   "execution_count": null,
   "metadata": {},
   "outputs": [],
   "source": [
    "uniques = col.unique(columns=[\"source_id\",\"experiment_id\"])\n",
    "import pprint\n",
    "pprint.pprint(uniques, compact=True)"
   ]
  },
  {
   "cell_type": "markdown",
   "metadata": {},
   "source": [
    "### Search and Discovery: execute a search query against the catalog\n",
    "\n",
    "We are interested in:\n",
    "- ```CMCC``` datasets about the ```CMCC-CM2-SR5``` model\n",
    "- ```tas``` variable\n",
    "- ```ssp585``` experiment"
   ]
  },
  {
   "cell_type": "code",
   "execution_count": null,
   "metadata": {},
   "outputs": [],
   "source": [
    "query = dict( experiment_id=\"ssp585\",\n",
    "             source_id=\"CMCC-CM2-SR5\", \n",
    "             variable_id=\"tas\"\n",
    ")\n",
    "cat = col.search(**query)\n",
    "cat.df"
   ]
  },
  {
   "cell_type": "code",
   "execution_count": null,
   "metadata": {},
   "outputs": [],
   "source": [
    "cat.keys()"
   ]
  },
  {
   "cell_type": "markdown",
   "metadata": {},
   "source": [
    "### Access data\n",
    "\n",
    "When you are satisfied with the results of your query, you can ask *intake-esm* to load data assets (NetCDF files) into xarray datasets"
   ]
  },
  {
   "cell_type": "code",
   "execution_count": null,
   "metadata": {},
   "outputs": [],
   "source": [
    "dset_dict = cat.to_dataset_dict()"
   ]
  },
  {
   "cell_type": "code",
   "execution_count": null,
   "metadata": {},
   "outputs": [],
   "source": [
    "dset_dict"
   ]
  },
  {
   "cell_type": "markdown",
   "metadata": {},
   "source": [
    "### Analyze data\n",
    "\n",
    "As an example, let's compute a temporal aggregation (e.g. mean) and plot the output data on a map"
   ]
  },
  {
   "cell_type": "code",
   "execution_count": null,
   "metadata": {},
   "outputs": [],
   "source": [
    "mean = dset_dict[list(cat)[0]].tas.mean('time').compute()\n",
    "mean.plot()"
   ]
  },
  {
   "cell_type": "code",
   "execution_count": null,
   "metadata": {},
   "outputs": [],
   "source": [
    "import cartopy.crs as ccrs\n",
    "from cartopy.mpl.geoaxes import GeoAxes\n",
    "from cartopy.util import add_cyclic_point\n",
    "import matplotlib.pyplot as plt\n",
    "import matplotlib as mpl\n",
    "import warnings\n",
    "import numpy as np\n",
    "warnings.filterwarnings(\"ignore\")\n",
    "\n",
    "fig = plt.figure(figsize=(10, 5), dpi=100)\n",
    "\n",
    "#Add Geo axes to the figure with the specified projection (PlateCarree)\n",
    "projection = ccrs.PlateCarree()\n",
    "ax = plt.axes(projection=projection)\n",
    "\n",
    "#Draw coastline and gridlines\n",
    "ax.coastlines()\n",
    "\n",
    "gl = ax.gridlines(crs=projection, draw_labels=True, linewidth=1, color='black', alpha=0.9, linestyle=':')\n",
    "gl.xlabels_top = False\n",
    "gl.ylabels_right = False\n",
    "\n",
    "#Get the near-surface air temperature field and the dimensions values\n",
    "time_index = 0\n",
    "lat = mean.lat\n",
    "lon = mean.lon\n",
    "tas = np.reshape(mean, (len(lat), len(lon)))\n",
    "\n",
    "#Wraparound points in longitude\n",
    "var_cyclic, lon_cyclic = add_cyclic_point(mean, coord=np.asarray(lon))\n",
    "x, y = np.meshgrid(lon_cyclic,lat)\n",
    "\n",
    "#Define color levels for color bar\n",
    "levStep = (np.nanmax(mean)-np.nanmin(mean))/20\n",
    "clevs = np.arange(np.nanmin(mean),np.nanmax(mean)+levStep,levStep)\n",
    "\n",
    "#Set filled contour plot\n",
    "cnplot = ax.contourf(x, y, var_cyclic, clevs,cmap=plt.cm.jet)  # didn't use transform, but looks ok...\n",
    "plt.colorbar(cnplot,ax=ax)\n",
    "\n",
    "ax.set_aspect('auto', adjustable=None)\n",
    "\n",
    "plt.title('Near-Surface Air Temperature (deg K)')\n",
    "plt.show()"
   ]
  }
 ],
 "metadata": {
  "kernelspec": {
   "display_name": "Python 3 (ipykernel)",
   "language": "python",
   "name": "python3"
  },
  "language_info": {
   "codemirror_mode": {
    "name": "ipython",
    "version": 3
   },
   "file_extension": ".py",
   "mimetype": "text/x-python",
   "name": "python",
   "nbconvert_exporter": "python",
   "pygments_lexer": "ipython3",
   "version": "3.9.7"
  }
 },
 "nbformat": 4,
 "nbformat_minor": 4
}
