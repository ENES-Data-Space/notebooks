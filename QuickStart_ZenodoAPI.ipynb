{
 "cells": [
  {
   "cell_type": "markdown",
   "id": "2ca3a34c-4422-4173-bb23-37c8e8fc6c3a",
   "metadata": {},
   "source": [
    "# How to upload and publish a research product on Zenodo through the Zenodo REST API"
   ]
  },
  {
   "cell_type": "markdown",
   "id": "21cd4b9e-d74e-4e67-bc7f-6a9cac585602",
   "metadata": {},
   "source": [
    "**Zenodo** (https://zenodo.org) is an open repository for all scholarship, enabling researchers from all disciplines to share and preserve their research outputs, regardless of size or format. Free to upload and free to access, Zenodo makes scientific outputs of all kinds **citable**, **shareable** and **discoverable** for the long term.\n",
    "\n",
    "Zenodo provides a **REST API** which currently supports:\n",
    "\n",
    " - **Deposit** — upload and publishing of research outputs (identical to functionality available in the user interface).\n",
    " - **Records** — search published records.\n",
    " - **Files** — download/upload of files\n",
    " \n",
    "The base URL of the API is https://zenodo.org/api/ (or https://sandbox.zenodo.org/api/ for testing purposes).\n",
    "\n",
    "Besides the community related to the EGI-ACE project (https://zenodo.org/communities/egi-ace/) - which is the EU-funded project supporting activities around Data Spaces - the  ENES Data Space has its own community on Zenodo (https://zenodo.org/communities/enes-data-space).\n",
    "\n",
    "In this way, you can upload your resources and share them with the community, thus fostering opportunities for collaboration and promoting a more sustainable, effective, and FAIR use of data."
   ]
  },
  {
   "cell_type": "markdown",
   "id": "ca27c4c2-989f-42c5-b1d0-8dffad2345d8",
   "metadata": {},
   "source": [
    "## *Depositions* entity\n",
    "The Deposition resource is used for uploading and editing records on Zenodo.\n",
    "\n",
    " - List all the depositions for the currently authenticated user\n",
    "    \n",
    "    `GET /api/deposit/depositions`\n",
    "    \n",
    " - Create a new deposition resource\n",
    "    \n",
    "    `POST /api/deposit/depositions`\n",
    "    \n",
    " - Retrieve a single deposition resource\n",
    "    \n",
    "    `GET /api/deposit/depositions/:id`\n",
    "  \n",
    " - Update an existing deposition resource\n",
    "    \n",
    "    `PUT /api/deposit/depositions/:id`\n",
    "     \n",
    " - Delete an existing deposition resource. Note, only unpublished depositions may be deleted.\n",
    "    \n",
    "    `DELETE /api/deposit/depositions/:id`"
   ]
  },
  {
   "cell_type": "markdown",
   "id": "05f69118-3aa1-453d-8438-c95e0aaa43ed",
   "metadata": {},
   "source": [
    "## Deposition *files*\n",
    "The Deposition file resource is used for uploading and editing files of a deposition on Zenodo.\n",
    "\n",
    " - List all the deposition files for a given deposition\n",
    "    \n",
    "    `GET /api/deposit/depositions/:id/files`\n",
    "    \n",
    " - Upload a new file\n",
    "   \n",
    "   `POST /api/deposit/depositions/:id/files`\n",
    "    \n",
    " - Sort the files for a deposition. By default, the first file is shown in the file preview\n",
    "   \n",
    "   `PUT /api/deposit/depositions/:id/files`\n",
    "  \n",
    " - Retrieve a single deposition file\n",
    "   \n",
    "   `GET /api/deposit/depositions/:id/files/:file_id`\n",
    "     \n",
    " - Update a deposition file resource. Currently the only use is renaming an already uploaded file. If you one to replace the actual file, please delete the file and upload a new file.\n",
    "   \n",
    "   `PUT /api/deposit/depositions/:id/files/:file_id`\n",
    " \n",
    " - Delete an existing deposition file resource. Note, only deposition files for unpublished depositions may be deleted.\n",
    "   \n",
    "   `DELETE /api/deposit/depositions/:id/files/:file_id`"
   ]
  },
  {
   "cell_type": "markdown",
   "id": "cded6c8b-01df-4da3-bff1-723c5706866c",
   "metadata": {},
   "source": [
    "## Deposition *actions*\n",
    "\n",
    "- Publish a deposition. Note, once a deposition is published, you can no longer delete it.\n",
    "    \n",
    "    `POST /api/deposit/depositions/:id/actions/publish`\n",
    "    \n",
    " - Unlock already submitted deposition for editing\n",
    "   \n",
    "   `POST /api/deposit/depositions/:id/actions/edit`\n",
    "    \n",
    " - Discard changes in the current editing session\n",
    "   \n",
    "   `POST /api/deposit/depositions/:id/actions/discard`\n",
    "  \n",
    " - Create a new version of a deposition\n",
    "   \n",
    "   `POST /api/deposit/depositions/:id/actions/newversion`"
   ]
  },
  {
   "cell_type": "markdown",
   "id": "bf6a6827-072c-4ec0-a2b8-87f325994eed",
   "metadata": {},
   "source": [
    "## *Records* entity\n",
    "The Records resource is used to search through published records.\n",
    "\n",
    "- List all open access records: [here](https://developers.zenodo.org/#list36) more info about the query parameters\n",
    "    \n",
    "    `GET /api/records/`\n",
    "    \n",
    " - Retrieve a single record\n",
    "   \n",
    "   `GET /api/records/:id`\n",
    "    \n",
    " - Discard changes in the current editing session\n",
    "   \n",
    "   `POST /api/deposit/depositions/:id/actions/discard`\n",
    "  \n",
    " - Create a new version of a deposition\n",
    "   \n",
    "   `POST /api/deposit/depositions/:id/actions/newversion`\n",
    "\n"
   ]
  },
  {
   "cell_type": "markdown",
   "id": "a156fe29-cd7d-4228-9952-7f4deb41b986",
   "metadata": {},
   "source": [
    "As first step, let's import the `requests` module to handle HTTP requests."
   ]
  },
  {
   "cell_type": "code",
   "execution_count": null,
   "id": "dc6b831c-6294-40c8-b4f2-e37f1dc05568",
   "metadata": {},
   "outputs": [],
   "source": [
    "import requests"
   ]
  },
  {
   "cell_type": "markdown",
   "id": "394bb659-668d-40c8-b401-da930b7e14d7",
   "metadata": {},
   "source": [
    "If you wish to test the API without publishing any product online, you can use the **sandbox environment** where you can test your API integration during development. The sandbox environment is available at http://sandbox.zenodo.org.\n",
    "\n",
    "Please note that the sandbox environment can be cleaned at anytime. Also, the sandbox environment will issue test DOIs using the `10.5072` prefix instead of the Zenodo’s normal prefix `10.5281`."
   ]
  },
  {
   "cell_type": "code",
   "execution_count": null,
   "id": "b4eaf125-4754-4a30-953e-070e8c907acd",
   "metadata": {},
   "outputs": [],
   "source": [
    "base_url = \"https://sandbox.zenodo.org/api/\"\n",
    "#base_url = \"https://zenodo.org/api/\""
   ]
  },
  {
   "cell_type": "markdown",
   "id": "5a522dba-59c4-47d3-ac68-259a9011af40",
   "metadata": {},
   "source": [
    "All the  APIs  require an **access token**. Create a token and replace ACCESS_TOKEN with your newly created personal access token.\n",
    "\n",
    "**Note:** you need two different tokens for working in the sandbox and official environments."
   ]
  },
  {
   "cell_type": "markdown",
   "id": "d0296eb2-c12d-4101-a760-395df56c7f4a",
   "metadata": {},
   "source": [
    "To create a personal access token:\n",
    "\n",
    "  - **Register** for a **Zenodo account** if you don’t already have one.\n",
    "  - Go to your Applications to **create a new token**.\n",
    "  - Select the **OAuth scopes** you need (you need *deposit:write* and *deposit:actions*).\n",
    "  \n",
    "**Note**\n",
    "  - **deposit:write** ---> Grants write access to depositions, but does not allow publishing the upload.\n",
    "  - **deposit:actions** ---> Grants access to publish, edit and discard edits for depositions.\n"
   ]
  },
  {
   "cell_type": "code",
   "execution_count": null,
   "id": "4139404f-41ee-49f4-b665-4443855968f4",
   "metadata": {},
   "outputs": [],
   "source": [
    "#ACCESS_TOKEN = '...' #official\n",
    "ACCESS_TOKEN = '...' #sandbox"
   ]
  },
  {
   "cell_type": "markdown",
   "id": "597294b4-d339-4152-bbd9-33dac6f49980",
   "metadata": {},
   "source": [
    "### STEP 1: Let’s create a new empty upload"
   ]
  },
  {
   "cell_type": "code",
   "execution_count": null,
   "id": "ac8b7016-cd32-4efc-8322-01d45e6da5f2",
   "metadata": {},
   "outputs": [],
   "source": [
    "headers = {\"Content-Type\": \"application/json\"}\n",
    "params = {'access_token': ACCESS_TOKEN}\n",
    "r = requests.post(base_url+'/deposit/depositions',\n",
    "                   params=params,\n",
    "                   json={},\n",
    "                   headers=headers)\n",
    "r.json()"
   ]
  },
  {
   "cell_type": "markdown",
   "id": "c497fa32-dc2f-41e6-9be5-103ab968e184",
   "metadata": {},
   "source": [
    "The deposition **id** represents the deposition identifier to be used in the next steps, so let's extract it from the previous json response."
   ]
  },
  {
   "cell_type": "code",
   "execution_count": null,
   "id": "ef8dd224-5925-489b-9732-e3b30b8f1c2b",
   "metadata": {},
   "outputs": [],
   "source": [
    "deposition_id = r.json()['id']\n",
    "deposition_id"
   ]
  },
  {
   "cell_type": "markdown",
   "id": "fd5776d3-3372-437c-b240-f7d248b31bef",
   "metadata": {},
   "source": [
    "Similarly, to use the new files API we will need to do a PUT request to the bucket link. The bucket is a folder-like object storing the files of our record and can be found under the 'links' key in our records metadata."
   ]
  },
  {
   "cell_type": "code",
   "execution_count": null,
   "id": "531415ce-06f4-436b-b690-fde67af10fe3",
   "metadata": {},
   "outputs": [],
   "source": [
    "bucket_url = r.json()[\"links\"][\"bucket\"]\n",
    "bucket_url"
   ]
  },
  {
   "cell_type": "markdown",
   "id": "0cc99f47-8314-4d3f-996e-62d2befb2d8f",
   "metadata": {},
   "source": [
    "### STEP 2: Let’s upload a new file\n",
    "\n",
    "To upload a new file with the **old API**: `POST /api/deposit/depositions/:id/files`\n",
    " \n",
    "Example:\n",
    "\n",
    "```\n",
    "filename = \"TEST.txt\"\n",
    "path = \"/home/jovyan/work/%s\" % filename\n",
    "data = {'name': filename}\n",
    "deposition_id = r.json()['id']\n",
    "files = {'file': open(path, 'rb')}\n",
    "r = requests.post(base_url+'/deposit/depositions/%s/files' % deposition_id,\n",
    "                   params={'access_token': ACCESS_TOKEN}, data=data,\n",
    "                   files=files)\n",
    "```\n",
    "\n",
    "In this case, we are going to use the **new API**, which is significantly more perfomant and supports much larger file sizes. While the older API supports 100MB per file, the new one has no size limitation.\n",
    "\n",
    "The target URL is a combination of the bucket link with the desired filename seperated by a slash: `PUT /api/files/:id/filename`\n"
   ]
  },
  {
   "cell_type": "code",
   "execution_count": null,
   "id": "1002ec9d-0e42-44f0-b6bf-3e3cfb7c363d",
   "metadata": {},
   "outputs": [],
   "source": [
    "''' New API '''\n",
    "filename = \"Frost_Days_2015-2100.gif\"\n",
    "path = \"/home/jovyan/work/%s\" % filename\n",
    "\n",
    "with open(path, \"rb\") as fp:\n",
    "    r = requests.put(\n",
    "        \"%s/%s\" % (bucket_url, filename),\n",
    "        data=fp,\n",
    "        params=params,\n",
    "    )\n",
    "r.json()"
   ]
  },
  {
   "cell_type": "markdown",
   "id": "015c2184-cd41-4e2b-973e-e462c6ecc1d6",
   "metadata": {},
   "source": [
    "### STEP 3: Let's add some metadata\n",
    "\n",
    "To do so, we need to update the **metadata** field of the desosition resource (see output of step 1).\n",
    "\n",
    "For a comprehensive description of the available metadata attributes, please refer to the **Deposit metadata** table at the following link:\n",
    "https://developers.zenodo.org/#representation\n",
    "\n",
    "Among the others, you can specify the list of **communities** you wish the deposition to appear, for example **enes-data-space**. \n",
    "\n",
    "         \"communities\": [\n",
    "             { \"identifier\": \"enes-data-space\" }\n",
    "         ]\n",
    "\n",
    "The owner of the community will be notified, and can either accept or reject your request.\n",
    "\n",
    "NOTE: If your upload is rejected, it will still be available on Zenodo, just not in the community. "
   ]
  },
  {
   "cell_type": "code",
   "execution_count": null,
   "id": "cf606853-68fa-4bea-82b7-f4028a1a8ed7",
   "metadata": {},
   "outputs": [],
   "source": [
    "import json\n",
    "data = {\n",
    "     'metadata': {\n",
    "         'title': 'Frost Days climate index',\n",
    "         'upload_type': 'other',\n",
    "         'description': 'Sample upload',\n",
    "         'creators': [{'name': 'Fabrizio, Antonio','affiliation': 'CMCC'}],\n",
    "         'access_right': 'open',\n",
    "         'license':'cc-by',\n",
    "         \"communities\": [\n",
    "             {\"identifier\": \"enes-data-space\"}\n",
    "         ],\n",
    "         'keywords': [\"climate index\", \"frost days\"]\n",
    "     }\n",
    " }\n",
    "r = requests.put(base_url+'/deposit/depositions/%s' % deposition_id,\n",
    "                  params={'access_token': ACCESS_TOKEN}, data=json.dumps(data),\n",
    "                  headers=headers)\n",
    "r.json()"
   ]
  },
  {
   "cell_type": "markdown",
   "id": "c6dcc8cd-4667-46f9-b9d1-806914ed61b7",
   "metadata": {},
   "source": [
    "### STEP 4: We’re ready to publish"
   ]
  },
  {
   "cell_type": "code",
   "execution_count": null,
   "id": "cba8b68b-3a29-4bd3-b3eb-c81de2b9f3db",
   "metadata": {},
   "outputs": [],
   "source": [
    "r = requests.post(base_url+'/deposit/depositions/%s/actions/publish' % deposition_id,\n",
    "                      params={'access_token': ACCESS_TOKEN} )"
   ]
  },
  {
   "cell_type": "markdown",
   "id": "8905efaf-e984-47a6-bf46-e95298be7b65",
   "metadata": {},
   "source": [
    "This is the corresponding json response"
   ]
  },
  {
   "cell_type": "code",
   "execution_count": null,
   "id": "dea1a9a8-5905-4478-9c78-e8874c42728b",
   "metadata": {},
   "outputs": [],
   "source": [
    "r.json()"
   ]
  },
  {
   "cell_type": "markdown",
   "id": "dd26f9f8-9b1d-4a95-8f1f-353341165b0e",
   "metadata": {},
   "source": [
    "And this is the DOI assigned to our record"
   ]
  },
  {
   "cell_type": "code",
   "execution_count": null,
   "id": "1c357e2b-a80c-4a96-8c2d-e5db63305eac",
   "metadata": {},
   "outputs": [],
   "source": [
    "record_doi = r.json()[\"doi\"]\n",
    "record_doi"
   ]
  },
  {
   "cell_type": "code",
   "execution_count": null,
   "id": "0015fc3d-085d-4258-bec5-2bd372e0121c",
   "metadata": {},
   "outputs": [],
   "source": [
    "record_doi_url = r.json()[\"doi_url\"]\n",
    "record_doi_url"
   ]
  },
  {
   "cell_type": "markdown",
   "id": "cced3158-bc28-4f50-8725-641eb4d6392d",
   "metadata": {},
   "source": [
    "We can also get the list of our records. The response is the list of all depositions for the currently authenticated user, as described [here](https://developers.zenodo.org/#list)."
   ]
  },
  {
   "cell_type": "code",
   "execution_count": null,
   "id": "0b4c9ffc-c766-441a-9df9-a7b9d1abc4f4",
   "metadata": {},
   "outputs": [],
   "source": [
    "depositions_list = requests.get(base_url+'/deposit/depositions',\n",
    "                  params={'access_token': ACCESS_TOKEN})\n",
    "depositions_list.json()"
   ]
  },
  {
   "cell_type": "markdown",
   "id": "e598ab17-51e8-4802-96d1-81928c0330d3",
   "metadata": {},
   "source": [
    "We can loop through the list and access the metadata (e.g., doi_url)"
   ]
  },
  {
   "cell_type": "code",
   "execution_count": null,
   "id": "d70f05bc-f752-4e5f-89f6-4cba82d32eb0",
   "metadata": {},
   "outputs": [],
   "source": [
    "for d in depositions_list.json():\n",
    "    print(d[\"doi_url\"])"
   ]
  },
  {
   "cell_type": "markdown",
   "id": "7b712e36-1e44-4f25-8348-74b0667ff9c7",
   "metadata": {},
   "source": [
    "## Search for some open access records"
   ]
  },
  {
   "cell_type": "markdown",
   "id": "25ef1fbf-53af-465a-9bbd-6964ecc1a3db",
   "metadata": {},
   "source": [
    "As an example, we are interested in records related to the **ENES Data Space community**.\n",
    "\n",
    "As first step, let's check if the community does exist and get its id."
   ]
  },
  {
   "cell_type": "code",
   "execution_count": null,
   "id": "a4349595-4422-42a4-bdf7-df433746f05c",
   "metadata": {},
   "outputs": [],
   "source": [
    "ACCESS_TOKEN = 'J7kaMPAhcu1EG1JX1PlhiTGuXLxBGQ0NyeqZnX9465jARs6d8YvjMEPlC9hq'\n",
    "\n",
    "params = {'access_token': ACCESS_TOKEN, 'q':'enes-data-space'}\n",
    "\n",
    "r = requests.get('https://zenodo.org/api/communities/',\n",
    "                  params=params)\n",
    "\n",
    "r.json()"
   ]
  },
  {
   "cell_type": "code",
   "execution_count": null,
   "id": "2da6dcfe-9332-463e-b9ec-40d5a2b42dfb",
   "metadata": {},
   "outputs": [],
   "source": [
    "enesds_id = r.json()['hits']['hits'][0]['id']\n",
    "enesds_id"
   ]
  },
  {
   "cell_type": "markdown",
   "id": "aa9fe893-1a42-4c38-9745-0a5480189b2a",
   "metadata": {},
   "source": [
    "Now, let's retrieve all the records related to the ENES Data Space community. To do so, we use the `communities` query argument."
   ]
  },
  {
   "cell_type": "code",
   "execution_count": null,
   "id": "ad0bde19-deb4-4d66-bc2c-be5323ce6ab9",
   "metadata": {},
   "outputs": [],
   "source": [
    "params = {'access_token': ACCESS_TOKEN, 'communities':enesds_id}\n",
    "\n",
    "r = requests.get('https://zenodo.org/api/records/',\n",
    "                  params=params)\n",
    "\n",
    "r.json()"
   ]
  },
  {
   "cell_type": "markdown",
   "id": "77ba0a58-08c6-40e4-bc49-9d807aea547e",
   "metadata": {},
   "source": [
    "Let's extract DOI and title of the returned records."
   ]
  },
  {
   "cell_type": "code",
   "execution_count": null,
   "id": "c1436c13-95a8-47ad-b7a3-a310f26b1187",
   "metadata": {},
   "outputs": [],
   "source": [
    "for record in r.json()['hits']['hits']:\n",
    "    print('%s - %s' % (record['metadata']['doi'], record['metadata']['title']))"
   ]
  },
  {
   "cell_type": "markdown",
   "id": "ddfcf349-3d63-4421-a296-ed5a7a53de7d",
   "metadata": {},
   "source": [
    "We can also specify a search query (`q`) using the Elasticsearch query string syntax. For example, we are interested in records about **index**."
   ]
  },
  {
   "cell_type": "code",
   "execution_count": null,
   "id": "0050b731-463a-4482-8d88-25ddbfbae70b",
   "metadata": {},
   "outputs": [],
   "source": [
    "params = {'access_token': ACCESS_TOKEN, 'communities':enesds_id, 'q':'index'}\n",
    "\n",
    "r = requests.get('https://zenodo.org/api/records/',\n",
    "                  params=params)\n",
    "\n",
    "r.json()"
   ]
  },
  {
   "cell_type": "code",
   "execution_count": null,
   "id": "e1842bfe-0ccf-4964-bfa8-61827a346765",
   "metadata": {},
   "outputs": [],
   "source": [
    "for record in r.json()['hits']['hits']:\n",
    "    print('%s - %s' % (record['metadata']['doi'], record['metadata']['title']))"
   ]
  },
  {
   "cell_type": "code",
   "execution_count": null,
   "id": "81010972-8108-4942-b6f5-b00db51b9150",
   "metadata": {},
   "outputs": [],
   "source": []
  }
 ],
 "metadata": {
  "kernelspec": {
   "display_name": "Python 3 (ipykernel)",
   "language": "python",
   "name": "python3"
  },
  "language_info": {
   "codemirror_mode": {
    "name": "ipython",
    "version": 3
   },
   "file_extension": ".py",
   "mimetype": "text/x-python",
   "name": "python",
   "nbconvert_exporter": "python",
   "pygments_lexer": "ipython3",
   "version": "3.10.6"
  }
 },
 "nbformat": 4,
 "nbformat_minor": 5
}
