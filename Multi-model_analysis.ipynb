{
 "cells": [
  {
   "cell_type": "markdown",
   "id": "29b3c8f9",
   "metadata": {},
   "source": [
    "# Multi-model analysis\n",
    "\n",
    "This notebook shows a simple example of multi-model analysis. \n",
    "\n",
    "As input files, we are going to use the CMIP6 ```tas```(near-surface air temperature) files related to the ```ssp585``` experiment (update of emission-driven RCP8.5 based on SSP5) and respectively produced  by \n",
    "\n",
    "- ```CMCC``` from the ```CMCC-CM2-SR5``` global coupled general circulation model\n",
    "- ```CMCC``` from the ```CMCC-ESM2``` global climate model\n",
    "- ```NCAR``` from the ```CESM2-WACCM``` global climate model"
   ]
  },
  {
   "cell_type": "markdown",
   "id": "e0c5dc35",
   "metadata": {},
   "source": [
    "Let's import the main Python modules and define the filepaths array."
   ]
  },
  {
   "cell_type": "code",
   "execution_count": null,
   "id": "60268b3a",
   "metadata": {},
   "outputs": [],
   "source": [
    "import xarray as xr\n",
    "import cftime\n",
    "import datetime\n",
    "import pandas as pd\n",
    "import numpy as np\n",
    "import cartopy.crs as ccrs\n",
    "import matplotlib.pyplot as plt\n",
    "from matplotlib.pyplot import figure\n",
    "import warnings\n",
    "warnings.filterwarnings(\"ignore\")\n",
    "%matplotlib inline\n",
    "from os.path import expanduser\n",
    "home = expanduser(\"~\")\n",
    "\n",
    "files=[home+\"/data/CMIP6/ScenarioMIP/CMCC/CMCC-CM2-SR5/ssp585/r1i1p1f1/Amon/tas/gn/v20200622/tas_Amon_CMCC-CM2-SR5_ssp585_r1i1p1f1_gn_201501-210012.nc\", \n",
    "    home+\"/data/CMIP6/ScenarioMIP/CMCC/CMCC-ESM2/ssp585/r1i1p1f1/Amon/tas/gn/v20210126/tas_Amon_CMCC-ESM2_ssp585_r1i1p1f1_gn_201501-210012.nc\",\n",
    "    home+\"/data/CMIP6/ScenarioMIP/NCAR/CESM2-WACCM/ssp585/r1i1p1f1/Amon/tas/gn/v20200702/tas_Amon_CESM2-WACCM_ssp585_r1i1p1f1_gn_201501-210012.nc\"]"
   ]
  },
  {
   "cell_type": "markdown",
   "id": "347c3e39",
   "metadata": {},
   "source": [
    "Let's load the three datasets."
   ]
  },
  {
   "cell_type": "code",
   "execution_count": null,
   "id": "dadbda0c",
   "metadata": {},
   "outputs": [],
   "source": [
    "ds_list = []\n",
    "for ffile in files:\n",
    "    ds = xr.open_dataset(ffile)\n",
    "    ds = ds.assign_coords({'model_id':ds.source_id})\n",
    "    ds['time'] = pd.to_datetime(ds.time.dt.strftime(\"%Y-%m\"))\n",
    "    try:\n",
    "        ds = ds.reset_coords('height',True)\n",
    "    except:\n",
    "        pass\n",
    "    ds_list.append(ds['tas'])\n",
    "    \n",
    "print(ds_list)"
   ]
  },
  {
   "cell_type": "markdown",
   "id": "3ad10810",
   "metadata": {},
   "source": [
    "### Spatial grid\n",
    "\n",
    "As we can note from the output above, the 3 models use the same spatial grid, so we can directly compare them at the grid cell level without any regridding operation. \n",
    "\n",
    "```python\n",
    "<xarray.DataArray 'tas' (time: 1032, lat: 192, lon: 288)>\n",
    "[57065472 values with dtype=float32]\n",
    "Coordinates:\n",
    "  * time      (time) datetime64[ns] 2015-01-01 2015-02-01 ... 2100-12-01\n",
    "  * lat       (lat) float64 -90.0 -89.06 -88.12 -87.17 ... 88.12 89.06 90.0\n",
    "  * lon       (lon) float64 0.0 1.25 2.5 3.75 5.0 ... 355.0 356.2 357.5 358.8\n",
    "    model_id  <U12 'CMCC-CM2-SR5'\n",
    "\n",
    "<xarray.DataArray 'tas' (time: 1032, lat: 192, lon: 288)>\n",
    "[57065472 values with dtype=float32]\n",
    "Coordinates:\n",
    "  * time      (time) datetime64[ns] 2015-01-01 2015-02-01 ... 2100-12-01\n",
    "  * lat       (lat) float64 -90.0 -89.06 -88.12 -87.17 ... 88.12 89.06 90.0\n",
    "  * lon       (lon) float64 0.0 1.25 2.5 3.75 5.0 ... 355.0 356.2 357.5 358.8\n",
    "    model_id  <U9 'CMCC-ESM2'\n",
    "\n",
    "<xarray.DataArray 'tas' (time: 1032, lat: 192, lon: 288)>\n",
    "[57065472 values with dtype=float32]\n",
    "Coordinates:\n",
    "  * lat       (lat) float64 -90.0 -89.06 -88.12 -87.17 ... 88.12 89.06 90.0\n",
    "  * lon       (lon) float64 0.0 1.25 2.5 3.75 5.0 ... 355.0 356.2 357.5 358.8\n",
    "  * time      (time) datetime64[ns] 2015-01-01 2015-02-01 ... 2100-12-01\n",
    "    model_id  <U11 'CESM2-WACCM'\n",
    "```"
   ]
  },
  {
   "cell_type": "markdown",
   "id": "d7de92a1",
   "metadata": {},
   "source": [
    "Now we can concatenate the three xarray objects along the ```model_id``` dimension."
   ]
  },
  {
   "cell_type": "code",
   "execution_count": null,
   "id": "189e661c",
   "metadata": {},
   "outputs": [],
   "source": [
    "full_ds = xr.concat([ds_list[0],ds_list[1],ds_list[2]], 'model_id')\n",
    "full_ds"
   ]
  },
  {
   "cell_type": "markdown",
   "id": "c198f8a9",
   "metadata": {},
   "source": [
    "And plot the three time series for a specific spatial point on a graph"
   ]
  },
  {
   "cell_type": "code",
   "execution_count": null,
   "id": "59d840ee",
   "metadata": {},
   "outputs": [],
   "source": [
    "figure(figsize=(15, 8), dpi=80)\n",
    "full_ds.sel(lat=\"41.9\",lon=\"12.49\",method=\"nearest\").plot(\n",
    "    x=\"time\", hue=\"model_id\"\n",
    ")"
   ]
  },
  {
   "cell_type": "markdown",
   "id": "ae36c144",
   "metadata": {},
   "source": [
    "We can calculate the yearly mean over the time dimension"
   ]
  },
  {
   "cell_type": "code",
   "execution_count": null,
   "id": "4f27e3dc",
   "metadata": {},
   "outputs": [],
   "source": [
    "yearly_means = full_ds.groupby(\"time.year\").mean()\n",
    "yearly_means"
   ]
  },
  {
   "cell_type": "markdown",
   "id": "08d0c7f9",
   "metadata": {},
   "source": [
    "And plot faceted maps showing the results for each of the 3 models over some selected years."
   ]
  },
  {
   "cell_type": "code",
   "execution_count": null,
   "id": "8bfe050b",
   "metadata": {},
   "outputs": [],
   "source": [
    "fg = yearly_means.sel(year=slice(np.min(yearly_means.year.values),np.max(yearly_means.year.values),20)).plot(\n",
    "        x=\"lat\", y=\"lon\", row=\"model_id\",\n",
    "        col=\"year\",\n",
    ")"
   ]
  },
  {
   "cell_type": "markdown",
   "id": "cde31a14",
   "metadata": {},
   "source": [
    "We can also compute the difference between the yearly means related to two of any models (e.g. ```CMCC-CM2-SR5``` and ```CESM2-WACCM```) and plot the result on a map for a specific year."
   ]
  },
  {
   "cell_type": "code",
   "execution_count": null,
   "id": "211ebdaa",
   "metadata": {},
   "outputs": [],
   "source": [
    "time_index = 2 # 2017\n",
    "diff_cmcc_ipsl = np.fabs(yearly_means.isel(model_id=[0,2]).diff('model_id')).isel(year=time_index)"
   ]
  },
  {
   "cell_type": "code",
   "execution_count": null,
   "id": "7752f98a",
   "metadata": {},
   "outputs": [],
   "source": [
    "fig = plt.figure(figsize=(10, 5), dpi=100)\n",
    "p = diff_cmcc_ipsl.plot(\n",
    "    cmap=\"GnBu\",\n",
    "    subplot_kws=dict(projection=ccrs.PlateCarree()),\n",
    "    transform=ccrs.PlateCarree(),\n",
    ")\n",
    "p.axes.set_global()\n",
    "p.axes.set_aspect('auto', adjustable=None)\n",
    "p.axes.coastlines()\n",
    "p.axes.gridlines()\n",
    "plt.title('Absolute difference between CMCC-CM2-SR5 and CESM2-WACCM yearly mean for year '+str(diff_cmcc_ipsl.year.values))"
   ]
  },
  {
   "cell_type": "markdown",
   "id": "4db41272",
   "metadata": {},
   "source": [
    "We can also compare the 3 ```yearly mean``` time series for a specific spatial point."
   ]
  },
  {
   "cell_type": "code",
   "execution_count": null,
   "id": "ffbcd4e3",
   "metadata": {},
   "outputs": [],
   "source": [
    "figure(figsize=(15, 8), dpi=80)\n",
    "yearly_means.sel(lat=\"41.9\",lon=\"12.49\",method=\"nearest\").plot(\n",
    "    x=\"year\", hue=\"model_id\"\n",
    ")"
   ]
  },
  {
   "cell_type": "markdown",
   "id": "e6767ecf",
   "metadata": {},
   "source": [
    "As another example, we can simply look at the **Northern Hemisphere** and compute the **average** over the ```(lat,lon)``` dimensions."
   ]
  },
  {
   "cell_type": "code",
   "execution_count": null,
   "id": "3c996414",
   "metadata": {},
   "outputs": [],
   "source": [
    "north_mean = full_ds.sel(lat=[0., 90.],method='nearest').mean(dim=['lon','lat'])\n",
    "north_mean"
   ]
  },
  {
   "cell_type": "code",
   "execution_count": null,
   "id": "68dd377a",
   "metadata": {},
   "outputs": [],
   "source": [
    "figure(figsize=(15, 8), dpi=80)\n",
    "north_mean.plot(hue='model_id')"
   ]
  },
  {
   "cell_type": "markdown",
   "id": "f134b404",
   "metadata": {},
   "source": [
    "And this is the model mean"
   ]
  },
  {
   "cell_type": "code",
   "execution_count": null,
   "id": "6e868c28",
   "metadata": {},
   "outputs": [],
   "source": [
    "figure(figsize=(15, 8), dpi=80)\n",
    "north_mean.mean(dim='model_id').plot()"
   ]
  },
  {
   "cell_type": "markdown",
   "id": "bc628ed4",
   "metadata": {},
   "source": [
    "And finally we can further aggregate over time to compute the global mean on yearly basis"
   ]
  },
  {
   "cell_type": "code",
   "execution_count": null,
   "id": "5106f296",
   "metadata": {},
   "outputs": [],
   "source": [
    "figure(figsize=(15, 8), dpi=80)\n",
    "north_mean.groupby(\"time.year\").mean().plot(hue='model_id')"
   ]
  }
 ],
 "metadata": {
  "kernelspec": {
   "display_name": "Python 3 (ipykernel)",
   "language": "python",
   "name": "python3"
  },
  "language_info": {
   "codemirror_mode": {
    "name": "ipython",
    "version": 3
   },
   "file_extension": ".py",
   "mimetype": "text/x-python",
   "name": "python",
   "nbconvert_exporter": "python",
   "pygments_lexer": "ipython3",
   "version": "3.9.7"
  }
 },
 "nbformat": 4,
 "nbformat_minor": 5
}
