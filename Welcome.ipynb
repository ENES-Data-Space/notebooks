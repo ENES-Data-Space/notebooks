{
 "cells": [
  {
   "cell_type": "markdown",
   "id": "242a03f5",
   "metadata": {},
   "source": [
    "# ENES Data Space Quick Start"
   ]
  },
  {
   "cell_type": "markdown",
   "id": "3247d04d",
   "metadata": {},
   "source": [
    "Welcome to **ENES Data Space**, an open and cloud-enabled data science environment for climate data analysis on top of the EOSC Compute Platform.\n",
    "\n",
    "It consists of a JupyterLab instance jointly with a large set of pre-installed Python libraries and a ready-to-use [Ophidia HPDA framework](http://ophidia.cmcc.it/) instance for running data manipulation, analysis and visualization.\n",
    "\n",
    "This notebook provides some basic information to get you started quickly."
   ]
  },
  {
   "cell_type": "markdown",
   "id": "15e46a0b",
   "metadata": {},
   "source": [
    "The **home folder** is organized as follows:\n",
    "   - ```data```: it contains a set of specific CMIP variable-centric collections, downloaded and kept in sync with the ESGF federated data archive. You can exploit the **intake-esm** utility for searching, discovery and loading the desired datasets - [click here for more details](Quick_Start_intake-esm.ipynb)\n",
    "   \n",
    "<center><img src=\"imgs/data_folder.png\" width=\"300px\" alt=\"Data folder\"/></center>\n",
    "    \n",
    "   - ```notebooks```: it contains some quick start notebooks as well as an example of multi-model analysis.\n",
    "   \n",
    " <center><img src=\"imgs/notebooks_folder.png\" width=\"300px\" alt=\"Notebooks folder\"/></center>\n",
    " \n",
    "   - ```work```: this is your working directory where you can create and upload any kind of file. **Please be aware that anything you create outside this folder will be destroyed when your working session is closed.**"
   ]
  },
  {
   "cell_type": "markdown",
   "id": "95f62a9f-3b0d-48fb-9804-2276945f64fb",
   "metadata": {},
   "source": [
    "From JupyterLab in the ENES Data Space you can do several things such as:\n",
    "\n",
    "1. Create and run a Jupyter Notebook exploiting the main Python libraries for data analysis, visualization and plotting (e.g. **Xarray**, **NumPy**, **SciPy**, **Matplotlib**, **Cartopy**)\n",
    "\n",
    " <center><img src=\"imgs/jupyter_notebook.png\" width=\"600px\" alt=\"Jupyter Notebook example\"/> </center>\n",
    "\n",
    "2. Perform data analysys through Ophidia and its Python bindings, called [PyOphidia](https://ophidia.cmcc.it/documentation/users/pyophidia/index.html). Please refer to the [Quick_Start_PyOphidia](Quick_Start_PyOphidia.ipynb) notebook to get you started quickly and exploit the potentials of the Ophidia Framework.\n",
    "\n",
    " <center><img src=\"imgs/pyophidia.png\" width=\"600px\" alt=\"PyOphidia example\"/> </center>\n",
    "\n",
    "3. Combine PyOphidia with other Python libraries (e.g., cartopy, matplotlib) and Notebooks for interactive prototyping, computation and visualisation of climate indices. You can find an example in the [Tropical_Nights](Tropical_Nights.ipynb) notebook.\n",
    "\n",
    " <center><img src=\"imgs/tropical_nights.png\" width=\"600px\" alt=\"Tropical Nights index\"/> </center>\n",
    "\n",
    "4. Perform any other operation directly from the Terminal\n",
    "\n",
    " <center><img src=\"imgs/terminal.png\" width=\"600px\" alt=\"Terminal\"/> </center>"
   ]
  }
 ],
 "metadata": {
  "kernelspec": {
   "display_name": "Python 3 (ipykernel)",
   "language": "python",
   "name": "python3"
  },
  "language_info": {
   "codemirror_mode": {
    "name": "ipython",
    "version": 3
   },
   "file_extension": ".py",
   "mimetype": "text/x-python",
   "name": "python",
   "nbconvert_exporter": "python",
   "pygments_lexer": "ipython3",
   "version": "3.9.7"
  }
 },
 "nbformat": 4,
 "nbformat_minor": 5
}
